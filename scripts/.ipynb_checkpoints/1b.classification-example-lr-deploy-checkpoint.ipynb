{
 "cells": [
  {
   "cell_type": "markdown",
   "metadata": {},
   "source": [
    "#### Workflow for Operationalizing Text Classification Model\n",
    "\n",
    "Steps for classification\n",
    "(refer to slides)\n",
    " 1. Reload the model\n",
    " 2. Reload the Vectorizer\n",
    " 3. Preprocess the new text\n",
    " 4. Numerically encode the input\n",
    " 5. Predict the label\n",
    "\n"
   ]
  },
  {
   "cell_type": "code",
   "execution_count": 1,
   "metadata": {
    "scrolled": true
   },
   "outputs": [],
   "source": [
    "import pickle\n",
    "import re\n",
    "import string\n",
    "#from sklearn.feature_extraction.text import CountVectorizer"
   ]
  },
  {
   "cell_type": "markdown",
   "metadata": {},
   "source": [
    " #### 1. Reload the model"
   ]
  },
  {
   "cell_type": "code",
   "execution_count": 2,
   "metadata": {},
   "outputs": [
    {
     "name": "stdout",
     "output_type": "stream",
     "text": [
      "total 624\r\n",
      "-rw-r--r--  1 tanpohkeam  staff  49714 Jul  1 21:52 classifier-2021-07-01.pkl\r\n",
      "-rw-r--r--  1 tanpohkeam  staff  49714 Jul  2 10:15 classifier-2021-07-02.pkl\r\n",
      "-rw-r--r--  1 tanpohkeam  staff  74021 Jul  1 21:52 countvectoriser-2021-07-01.pkl\r\n",
      "-rw-r--r--  1 tanpohkeam  staff  74021 Jul  2 10:15 countvectoriser-2021-07-02.pkl\r\n"
     ]
    }
   ],
   "source": [
    "# Check the name of the latest model\n",
    "!ls -l ../outputs"
   ]
  },
  {
   "cell_type": "code",
   "execution_count": 3,
   "metadata": {},
   "outputs": [],
   "source": [
    "classifier_path = '../outputs/classifier-2021-07-02.pkl'\n",
    "\n",
    "# path1 = \"classifier-2020-06-16.pkl\"  ## The path needs to update to reference the proper file\n",
    "with open(classifier_path, 'rb') as f:\n",
    "    model = pickle.load(f)"
   ]
  },
  {
   "cell_type": "markdown",
   "metadata": {},
   "source": [
    "#### 2. Reload the vectorizer"
   ]
  },
  {
   "cell_type": "code",
   "execution_count": 4,
   "metadata": {},
   "outputs": [],
   "source": [
    "## The path needs to update to reference the proper file\n",
    "countvectorizer_path = '../outputs/countvectoriser-2021-07-02.pkl'\n",
    "\n",
    "with open(countvectorizer_path, 'rb') as f:\n",
    "    trained_cv = pickle.load(f)"
   ]
  },
  {
   "cell_type": "code",
   "execution_count": 5,
   "metadata": {},
   "outputs": [
    {
     "data": {
      "text/plain": [
       "LogisticRegression()"
      ]
     },
     "execution_count": 5,
     "metadata": {},
     "output_type": "execute_result"
    }
   ],
   "source": [
    "# Check the parameters of the model\n",
    "model"
   ]
  },
  {
   "cell_type": "code",
   "execution_count": 6,
   "metadata": {},
   "outputs": [
    {
     "data": {
      "text/plain": [
       "CountVectorizer(stop_words='english')"
      ]
     },
     "execution_count": 6,
     "metadata": {},
     "output_type": "execute_result"
    }
   ],
   "source": [
    "# Check the parameters of the Count Vectorizer\n",
    "trained_cv"
   ]
  },
  {
   "cell_type": "markdown",
   "metadata": {},
   "source": [
    "#### Function to Preprocess the input text\n",
    "\n",
    "The way in which you pre-process a new input text should be in the same way that you have used \n",
    "pre-processed the trained data. "
   ]
  },
  {
   "cell_type": "code",
   "execution_count": 7,
   "metadata": {},
   "outputs": [],
   "source": [
    "def preprocess(text):\n",
    "    alphanumeric = lambda x: re.sub(r\"\"\"\\w*\\d\\w*\"\"\", ' ', x)\n",
    "    punc_lower = lambda x: re.sub('[%s]' % re.escape(string.punctuation), ' ', x.lower())\n",
    "    text = alphanumeric(text)\n",
    "    text = punc_lower(text)\n",
    "    return text"
   ]
  },
  {
   "cell_type": "markdown",
   "metadata": {},
   "source": [
    "#### Function to numerically encode the input using the Counter Vectorizer\n",
    "Note that in this function, we use .transform() and not .fit_transform()\n",
    "If the latter is used, we will end up with different set of features / terms"
   ]
  },
  {
   "cell_type": "code",
   "execution_count": 8,
   "metadata": {},
   "outputs": [],
   "source": [
    "def encode_text_to_vector(cv, text):\n",
    "       text_vector = cv.transform( [text ] )\n",
    "       return text_vector"
   ]
  },
  {
   "cell_type": "markdown",
   "metadata": {},
   "source": [
    "#### 3. Preprocess the new text"
   ]
  },
  {
   "cell_type": "code",
   "execution_count": 14,
   "metadata": {},
   "outputs": [
    {
     "name": "stdout",
     "output_type": "stream",
     "text": [
      "Enter the new text > Can I come to your house to eat\n"
     ]
    }
   ],
   "source": [
    "new_text = input(\"Enter the new text > \")\n",
    "new_text = preprocess(new_text)"
   ]
  },
  {
   "cell_type": "markdown",
   "metadata": {},
   "source": [
    "#### 4. Numerically encode the input"
   ]
  },
  {
   "cell_type": "code",
   "execution_count": 15,
   "metadata": {},
   "outputs": [],
   "source": [
    "# only features (words) that are encountered during the training stage is mapped\n",
    "new_text_vector = encode_text_to_vector(trained_cv, new_text)"
   ]
  },
  {
   "cell_type": "code",
   "execution_count": 16,
   "metadata": {
    "scrolled": true
   },
   "outputs": [
    {
     "name": "stdout",
     "output_type": "stream",
     "text": [
      "  (0, 1022)\t1\n",
      "  (0, 1568)\t1\n",
      "  (0, 2445)\t1\n"
     ]
    }
   ],
   "source": [
    "print (new_text_vector)"
   ]
  },
  {
   "cell_type": "markdown",
   "metadata": {},
   "source": [
    "#### 5. Predict the label\n",
    "\n",
    "The example below takes in a next text from the command line and call the functions defined above.\n",
    "The predicted label is given."
   ]
  },
  {
   "cell_type": "code",
   "execution_count": 12,
   "metadata": {
    "scrolled": true
   },
   "outputs": [
    {
     "name": "stdout",
     "output_type": "stream",
     "text": [
      "The input text <can i come to your house to eat dinner> is a <ham> \n"
     ]
    }
   ],
   "source": [
    "predicted_label = (model.predict(new_text_vector))[0]\n",
    "print (f\"The input text <{new_text}> is a <{predicted_label}> \")"
   ]
  },
  {
   "cell_type": "markdown",
   "metadata": {},
   "source": [
    "### More Testing Sample text.\n",
    "\n",
    "For the fun of testing, cut and paste different parts of a SPAM and HAM message\n",
    "\n",
    "\n",
    "ham\tI'm gonna be home soon and i don't want to talk about this stuff anymore tonight, k? I've cried enough today.\n",
    "\n",
    "ham\tI've been searching for the right words to thank you for this breather. I promise i wont take your help for granted and will fulfil my promise. You have been wonderful and a blessing at all times.\n",
    "\n",
    "ham\tOh k...i'm watching here:)\n",
    "ham\tEh u remember how 2 spell his name... Yes i did. He v naughty make until i v wet.\n",
    "ham\tFine if thats the way u feel. Thats the way its gota b\n",
    "\n",
    "ham\tIs that seriously how you spell his name?\n",
    "\n",
    "spam\tSIX chances to win CASH! From 100 to 20,000 pounds txt> CSH11 and send to 87575. Cost 150p/day, 6days, 16+ TsandCs apply Reply HL 4 info\n",
    "\n",
    "spam\tURGENT! You have won a 1 week FREE membership in our £100,000 Prize Jackpot! Txt the word: CLAIM to No: 81010 T&C www.dbuk.net LCCLTD POBOX 4403LDNW1A7RW18\n",
    "\n",
    "spam\tXXXMobileMovieClub: To use your credit, click the WAP link in the next txt message or click here>> http://wap. xxxmobilemovieclub.com?n=QJKGIGHJJGCBL\n",
    "\n",
    "spam\tEngland v Macedonia - dont miss the goals/team news. Txt ur national team to 87077 eg ENGLAND to 87077 Try:WALES, SCOTLAND 4txt/ú1.20 POBOXox36504W45WQ 16+\n",
    "\n"
   ]
  },
  {
   "cell_type": "code",
   "execution_count": 13,
   "metadata": {
    "scrolled": true
   },
   "outputs": [
    {
     "name": "stdout",
     "output_type": "stream",
     "text": [
      "(1, 6125)\n",
      "['aa', 'aah', 'aaooooright', 'aathi', 'ab', 'abbey', 'abeg', 'aberdeen', 'abi', 'ability', 'abiola', 'abj', 'able', 'abnormally', 'aboutas', 'abroad', 'absence', 'absolutely', 'absolutly', 'abt', 'abta', 'abuse', 'ac', 'academic', 'acc', 'accent', 'accept', 'access', 'accessible', 'accidant', 'accident', 'accidentally', 'accommodation', 'accommodationvouchers', 'accomodate', 'accomodations', 'accordin', 'accordingly', 'account', 'accounting', 'accounts', 'accumulation', 'achan', 'ache', 'acid', 'acknowledgement', 'acnt', 'aco', 'acted', 'actin', 'acting', 'action', 'activate', 'active', 'activities', 'actor', 'actual', 'actually', 'ad', 'adam', 'add', 'addamsfa', 'added', 'addicted', 'addie', 'adding', 'address', 'adds', 'adewale', 'adi', 'adjustable', 'admin', 'administrator', 'admirer', 'admission', 'admit', 'adore', 'adoring', 'adp', 'adress', 'adrian', 'adrink', 'ads', 'adsense', 'adult', 'adults', 'advance', 'adventure', 'advice', 'advise', 'advising', 'advisors', 'aeronautics', 'aeroplane', 'afew', 'affair', 'affairs', 'affection', 'afghanistan', 'afraid', 'africa', 'african', 'aft', 'afternon', 'afternoon', 'afternoons', 'aftr', 'ag', 'agalla', 'age', 'agency', 'agent', 'agents', 'ages', 'agidhane', 'ago', 'ah', 'aha', 'ahead', 'ahhh', 'ahmad', 'ahold', 'aid', 'aids', 'aig', 'aight', 'ain', 'aint', 'air', 'airport', 'airtel', 'aiya', 'aiyah', 'aiyar', 'aiyo', 'ajith', 'ak', 'aka', 'al', 'alaikkum', 'alaipayuthe', 'albi', 'album', 'alcohol', 'aldrine', 'alert', 'aletter', 'alex', 'alfie', 'algarve', 'ali', 'alive', 'allah', 'allalo', 'allday', 'alle', 'allow', 'allowed', 'allows', 'alot', 'alright', 'alrite', 'alter', 'alternative', 'alwa', 'alwys', 'amanda', 'ambitious', 'ambrith', 'american', 'amigos', 'amk', 'amla', 'amma', 'ammae', 'ammo', 'amp', 'amplikater', 'amrca', 'amt', 'amy', 'ana', 'anal', 'andre', 'andrews', 'andros', 'angels', 'angry', 'animation', 'anjola', 'anna', 'annie', 'anniversary', 'annoncement', 'announced', 'announcement', 'annoying', 'anonymous', 'anot', 'ans', 'ansr', 'answer', 'answered', 'answerin', 'answering', 'answers', 'answr', 'antha', 'anthony', 'anti', 'anybody', 'anymore', 'anyones', 'anyplaces', 'anythiing', 'anythin', 'anythingtomorrow', 'anytime', 'anyways', 'apart', 'apartment', 'apes', 'apnt', 'apo', 'apologetic', 'apologise', 'apologize', 'app', 'apparently', 'appeal', 'appear', 'applausestore', 'applebees', 'application', 'apply', 'appointment', 'appointments', 'appreciate', 'appreciated', 'approaching', 'approve', 'approved', 'apps', 'appt', 'appy', 'april', 'apt', 'aptitude', 'aquarius', 'ar', 'arab', 'arabian', 'arcade', 'archive', 'ard', 'area', 'aren', 'arent', 'arestaurant', 'aretaking', 'areyouunique', 'argentina', 'argh', 'argue', 'argument', 'arguments', 'aries', 'arise', 'arises', 'arm', 'armand', 'armenia', 'arms', 'arng', 'arngd', 'arnt', 'aroundn', 'arr', 'arrange', 'arranging', 'arrival', 'arrive', 'arrived', 'arrow', 'arsenal', 'art', 'artists', 'arty', 'arul', 'arun', 'asap', 'asda', 'ashley', 'ashwini', 'asia', 'asian', 'asjesus', 'ask', 'askd', 'asked', 'askin', 'asking', 'asks', 'aslamalaikkum', 'asleep', 'asp', 'aspects', 'ass', 'assessment', 'asshole', 'assistance', 'asssssholeeee', 'assume', 'assumed', 'asthere', 'astne', 'astoundingly', 'astrology', 'asus', 'asusual', 'ate', 'atlanta', 'atlast', 'atleast', 'atm', 'atrocious', 'attach', 'attached', 'attempt', 'atten', 'attend', 'attended', 'attending', 'attention', 'attitude', 'attractive', 'attracts', 'auction', 'audition', 'audrey', 'audrie', 'august', 'aunt', 'auntie', 'aunties', 'aunts', 'aunty', 'aust', 'australia', 'auto', 'autocorrect', 'av', 'ava', 'availa', 'available', 'avalarr', 'avatar', 'avble', 'ave', 'avenge', 'avent', 'avenue', 'avin', 'avo', 'avoiding', 'avoids', 'await', 'awaiting', 'awake', 'award', 'awarded', 'away', 'awesome', 'awkward', 'aww', 'awww', 'axis', 'ay', 'ayn', 'ayo', 'ba', 'baaaaaaaabe', 'baaaaabe', 'babe', 'babes', 'babies', 'baby', 'babygoodbye', 'babysit', 'babysitting', 'bac', 'backdoor', 'backwards', 'bad', 'badass', 'badly', 'badrith', 'bag', 'bags', 'bahamas', 'baig', 'bailiff', 'bajarangabali', 'bak', 'bakra', 'bakrid', 'balance', 'ball', 'balloon', 'balls', 'bam', 'bambling', 'band', 'bandages', 'bang', 'bangb', 'bangbabes', 'bank', 'banks', 'banneduk', 'banter', 'bao', 'bar', 'barbie', 'barely', 'barkleys', 'barmed', 'barolla', 'barrel', 'bars', 'base', 'based', 'basic', 'basically', 'basket', 'basq', 'bat', 'batch', 'batchlor', 'bath', 'bathe', 'bathing', 'bathroom', 'batsman', 'batt', 'battery', 'battle', 'bawling', 'bay', 'bb', 'bbd', 'bbdeluxe', 'bbq', 'bc', 'bcaz', 'bck', 'bcm', 'bcoz', 'bcs', 'bcum', 'bcums', 'bcz', 'bday', 'beads', 'bear', 'bears', 'beauties', 'beautiful', 'beauty', 'bec', 'becaus', 'becausethey', 'becoz', 'becz', 'bed', 'bedbut', 'bedrm', 'bedroom', 'beeen', 'beehoon', 'beendropping', 'beer', 'beerage', 'beers', 'befor', 'beg', 'beggar', 'begin', 'begins', 'behave', 'bein', 'believe', 'belive', 'bell', 'bellearlier', 'belligerent', 'belly', 'belong', 'belongs', 'belovd', 'beloved', 'belt', 'ben', 'bend', 'beneficiary', 'benefits', 'bennys', 'bergkamp', 'best', 'bet', 'beta', 'beth', 'better', 'bettersn', 'bettr', 'beware', 'bf', 'bffs', 'bfore', 'bhaji', 'bhaskar', 'biatch', 'bid', 'bids', 'big', 'bigger', 'biggest', 'bike', 'billed', 'billing', 'billion', 'bills', 'billy', 'bilo', 'bin', 'biola', 'bird', 'birds', 'birla', 'birth', 'birthday', 'bishan', 'bit', 'bitch', 'bitching', 'bite', 'bites', 'bits', 'biz', 'bk', 'black', 'blackberry', 'blacko', 'blah', 'blake', 'blame', 'blank', 'blanked', 'blanket', 'blankets', 'blastin', 'bleh', 'bless', 'blessed', 'blessing', 'blessings', 'blimey', 'blind', 'block', 'blocked', 'blog', 'blogging', 'blogspot', 'bloke', 'blonde', 'blood', 'bloody', 'bloomberg', 'blow', 'blowing', 'blown', 'blu', 'blue', 'bluetooth', 'bluetoothhdset', 'bluff', 'blur', 'bluray', 'bmw', 'boat', 'body', 'boggy', 'bognor', 'bold', 'bollox', 'boltblue', 'bomb', 'bong', 'bonus', 'boo', 'book', 'booked', 'bookedthe', 'booking', 'bookmark', 'books', 'boost', 'booty', 'bootydelious', 'borderline', 'bored', 'borin', 'boring', 'born', 'borrow', 'boss', 'boston', 'bother', 'bothering', 'bought', 'bout', 'bowa', 'bowl', 'box', 'boy', 'boye', 'boyf', 'boys', 'boytoy', 'brah', 'brain', 'brainless', 'brains', 'brainy', 'brand', 'brandy', 'bray', 'brb', 'bread', 'breadstick', 'break', 'breaker', 'breakfast', 'breakin', 'breaking', 'breaks', 'breath', 'breathe', 'breathing', 'breeze', 'bribe', 'bridal', 'bridgwater', 'brief', 'bright', 'brighten', 'brilliant', 'brilliantly', 'bring', 'bringing', 'brings', 'brisk', 'brison', 'bristol', 'british', 'britney', 'bro', 'broad', 'broadband', 'broke', 'broken', 'brolly', 'bros', 'broth', 'brothas', 'brother', 'brothers', 'brought', 'brown', 'brownies', 'browse', 'browser', 'browsin', 'bruce', 'brum', 'bruv', 'bslvyl', 'bsn', 'bsnl', 'bstfrnd', 'bt', 'bthere', 'btw', 'btwn', 'bucks', 'bud', 'buddys', 'budget', 'buff', 'buffet', 'buffy', 'bugis', 'build', 'building', 'built', 'bulbs', 'bull', 'bullshit', 'bunch', 'bundle', 'bunkers', 'buns', 'burden', 'burger', 'burgundy', 'burn', 'burning', 'burns', 'burnt', 'burrito', 'bus', 'busetop', 'business', 'busy', 'butt', 'buttheres', 'butting', 'buttons', 'buy', 'buyer', 'buyers', 'buying', 'buz', 'buzy', 'buzz', 'buzzzz', 'bw', 'bx', 'byatch', 'bye', 'cabin', 'cafe', 'cage', 'cake', 'cakes', 'cal', 'calculated', 'calculation', 'cali', 'calicut', 'california', 'callback', 'callcost', 'calld', 'called', 'caller', 'callers', 'callertune', 'callfreefone', 'callin', 'calling', 'callon', 'calls', 'calm', 'cam', 'camcorder', 'came', 'camera', 'camp', 'campus', 'camry', 'canal', 'canary', 'cancel', 'canceled', 'cancelled', 'cancer', 'canlove', 'cann', 'canname', 'cantdo', 'capital', 'cappuccino', 'caps', 'captain', 'captaining', 'car', 'card', 'cardiff', 'cardin', 'cards', 'care', 'careabout', 'cared', 'career', 'careers', 'careful', 'carefully', 'careless', 'caring', 'carlie', 'carlos', 'carly', 'carolina', 'caroline', 'carpark', 'carry', 'carryin', 'cars', 'cartons', 'cartoon', 'case', 'cash', 'cashed', 'cashto', 'casing', 'casting', 'castor', 'cat', 'catch', 'catches', 'catching', 'categories', 'caught', 'cause', 'causing', 'cave', 'cbe', 'cc', 'ccna', 'cd', 'cdgt', 'cds', 'celeb', 'celebrate', 'celebration', 'cell', 'census', 'center', 'centre', 'cer', 'cereals', 'certainly', 'cha', 'chachi', 'chad', 'chain', 'challenge', 'challenging', 'champlaxigating', 'chance', 'chances', 'change', 'changed', 'changing', 'channel', 'chapel', 'chapter', 'character', 'charge', 'charged', 'charges', 'charity', 'charles', 'charlie', 'charming', 'chart', 'chase', 'chasing', 'chat', 'chatlines', 'chatting', 'cheap', 'cheaper', 'cheat', 'cheating', 'chechi', 'check', 'checked', 'checkin', 'checking', 'checkup', 'cheek', 'cheer', 'cheered', 'cheers', 'cheery', 'cheese', 'cheetos', 'chennai', 'cherish', 'cherthala', 'chest', 'chex', 'cheyyamo', 'chg', 'chgs', 'chic', 'chicken', 'chickened', 'chief', 'chik', 'chikku', 'child', 'childish', 'childporn', 'children', 'childrens', 'chile', 'chill', 'chillin', 'china', 'chinatown', 'chinchillas', 'chinese', 'chinky', 'chinnu', 'chip', 'chk', 'chloe', 'chocolate', 'choice', 'choices', 'choose', 'chop', 'chords', 'chores', 'chosen', 'chrgd', 'christ', 'christians', 'christmas', 'christmassy', 'chuck', 'chuckin', 'church', 'cine', 'cinema', 'citizen', 'city', 'citylink', 'cl', 'claim', 'claimcode', 'claims', 'claire', 'clarify', 'clark', 'clas', 'class', 'classes', 'classic', 'classmates', 'claypot', 'cld', 'clean', 'cleaning', 'clear', 'cleared', 'clearer', 'clearing', 'clearly', 'clever', 'click', 'cliff', 'clip', 'clock', 'close', 'closeby', 'closed', 'closer', 'closes', 'clothes', 'cloud', 'clover', 'club', 'clubmoby', 'clubsaisai', 'clubzed', 'clue', 'cme', 'cmon', 'cn', 'cnl', 'cnn', 'coach', 'coast', 'coat', 'coca', 'coccooning', 'cochin', 'cock', 'cocksuckers', 'coco', 'code', 'coffee', 'coherently', 'coimbatore', 'coin', 'coincidence', 'coins', 'cola', 'colany', 'cold', 'colin', 'collages', 'collapsed', 'colleagues', 'collect', 'collected', 'collecting', 'collection', 'colleg', 'college', 'color', 'colour', 'colourful', 'colours', 'com', 'comb', 'combination', 'combine', 'come', 'comedy', 'comes', 'comfort', 'comin', 'coming', 'comingdown', 'command', 'comment', 'commercial', 'common', 'community', 'comp', 'companies', 'company', 'compare', 'compass', 'compensation', 'competition', 'complacent', 'complain', 'complaining', 'complaint', 'complete', 'completely', 'completes', 'completing', 'complexities', 'complimentary', 'compliments', 'compulsory', 'computational', 'computer', 'computerless', 'computers', 'comuk', 'conacted', 'concentrate', 'concentrating', 'concern', 'concerned', 'concert', 'conclusion', 'condition', 'conditions', 'conected', 'conference', 'confidence', 'confirm', 'confirmd', 'confirmed', 'conform', 'confused', 'confuses', 'congrats', 'congratulation', 'congratulations', 'connect', 'connected', 'connection', 'connections', 'cons', 'conserve', 'consider', 'considering', 'console', 'constant', 'constantly', 'contact', 'contacted', 'contacts', 'contains', 'content', 'contented', 'contents', 'continue', 'contract', 'contribute', 'control', 'conversations', 'converted', 'convey', 'convince', 'convinced', 'convincing', 'cook', 'cooked', 'cookies', 'cool', 'cooperative', 'copies', 'coping', 'cops', 'copy', 'corect', 'cornwall', 'corporation', 'corrct', 'correct', 'correctly', 'corrupt', 'cos', 'cosign', 'cost', 'costa', 'costing', 'costs', 'costume', 'cough', 'coughing', 'coulda', 'couldn', 'count', 'country', 'counts', 'couple', 'courage', 'course', 'court', 'cousin', 'cover', 'coveragd', 'covers', 'coz', 'cps', 'cr', 'crab', 'crack', 'craigslist', 'crammed', 'cramps', 'crap', 'crash', 'crashed', 'crave', 'craving', 'craziest', 'crazy', 'crazyin', 'cream', 'created', 'creative', 'credit', 'credited', 'credits', 'creep', 'creepy', 'cres', 'cribbs', 'cricket', 'cricketer', 'cried', 'crisis', 'crore', 'cross', 'crossing', 'croydon', 'crucify', 'cruel', 'cruise', 'crushes', 'crying', 'cs', 'csc', 'cst', 'cstore', 'ctagg', 'ctargg', 'cthen', 'ctla', 'cts', 'cttargg', 'ctter', 'cttergg', 'ctxt', 'cu', 'cuck', 'cud', 'cuddle', 'cuddled', 'cuddling', 'cudnt', 'culdnt', 'cultures', 'cum', 'cumming', 'cup', 'cupboard', 'cuppa', 'curious', 'current', 'currently', 'curtsey', 'cusoon', 'cust', 'custcare', 'custom', 'customer', 'customercare', 'customers', 'customersqueries', 'cut', 'cute', 'cutefrnd', 'cutest', 'cutie', 'cutter', 'cutting', 'cuz', 'cya', 'cyclists', 'cysts', 'da', 'daaaaa', 'dabooks', 'dad', 'daddy', 'dai', 'daily', 'damn', 'dancce', 'dance', 'dancin', 'dancing', 'dane', 'dang', 'danger', 'dangerous', 'dao', 'dare', 'dark', 'darker', 'darkest', 'darkness', 'darlin', 'darling', 'darlings', 'darren', 'dartboard', 'das', 'dasara', 'dat', 'date', 'dates', 'dating', 'dats', 'datz', 'dave', 'dawns', 'day', 'days', 'db', 'dbuk', 'dd', 'dead', 'deal', 'dealing', 'deals', 'dear', 'dearer', 'dearly', 'death', 'dec', 'december', 'decent', 'decide', 'decided', 'deciding', 'decimal', 'decision', 'decisions', 'declare', 'decorating', 'dedicate', 'dedicated', 'deduct', 'deep', 'deepak', 'deepest', 'deer', 'deeraj', 'def', 'defeat', 'defer', 'definite', 'definitely', 'definitly', 'degrees', 'dehydrated', 'dehydration', 'del', 'delay', 'delayed', 'delete', 'deleted', 'delhi', 'delicious', 'deliver', 'delivered', 'deliveredtomorrow', 'delivery', 'deltomorrow', 'deluxe', 'dem', 'demand', 'den', 'dena', 'dengra', 'denis', 'dent', 'dental', 'dentist', 'dentists', 'deny', 'department', 'dependents', 'depends', 'deposit', 'deposited', 'depressed', 'depression', 'dept', 'der', 'derek', 'description', 'desert', 'deserve', 'desk', 'desparate', 'desparately', 'desperate', 'despite', 'dessert', 'destination', 'destiny', 'detailed', 'details', 'determine', 'detroit', 'deus', 'develop', 'developed', 'devils', 'deviousbitch', 'devouring', 'dey', 'dha', 'dhina', 'dhoni', 'dhorte', 'di', 'dial', 'dialling', 'diamond', 'diamonds', 'diapers', 'dice', 'dick', 'dict', 'dictionary', 'did', 'didn', 'didnt', 'didntgive', 'die', 'died', 'diesel', 'diet', 'dieting', 'diff', 'difference', 'different', 'difficult', 'dificult', 'digital', 'digits', 'dignity', 'dileep', 'dime', 'din', 'dinero', 'ding', 'dining', 'dinner', 'dino', 'dint', 'dip', 'dippeditinadew', 'direct', 'directly', 'director', 'directors', 'dirt', 'dirtiest', 'dirty', 'dis', 'disagreeable', 'disappeared', 'disappointment', 'disaster', 'disasters', 'disastrous', 'disclose', 'disconnect', 'disconnected', 'discount', 'discreet', 'discuss', 'discussed', 'dislikes', 'dismissial', 'display', 'distance', 'distract', 'disturb', 'disturbance', 'disturbing', 'ditto', 'division', 'divorce', 'diwali', 'dizzamn', 'dizzee', 'dl', 'dlf', 'dload', 'dnot', 'dnt', 'dobby', 'doc', 'docs', 'doctor', 'documents', 'dodda', 'dodgey', 'does', 'doesn', 'doesnt', 'dog', 'dogbreath', 'dogg', 'doggin', 'dogging', 'doggy', 'dogs', 'doin', 'doinat', 'doing', 'doit', 'doke', 'dokey', 'doll', 'dollar', 'dollars', 'dom', 'don', 'donate', 'donno', 'dont', 'dontcha', 'donyt', 'dooms', 'door', 'dorm', 'dorothy', 'dose', 'dosomething', 'dot', 'double', 'doublemins', 'doubles', 'doubletxt', 'doubt', 'doug', 'dough', 'download', 'downloaded', 'downloads', 'downon', 'downs', 'dozens', 'dps', 'dr', 'dracula', 'drama', 'dramastorm', 'dramatic', 'draw', 'dream', 'dreams', 'dress', 'dressed', 'dresser', 'drink', 'drinkin', 'drinks', 'drivby', 'drive', 'driver', 'drivin', 'driving', 'drizzling', 'drms', 'drop', 'dropped', 'drove', 'drpd', 'drug', 'drugs', 'drum', 'drunk', 'drunkard', 'dry', 'dryer', 'dsn', 'dub', 'duchess', 'ducking', 'dude', 'dudes', 'dudette', 'duffer', 'dull', 'dumb', 'dump', 'dun', 'dunno', 'durban', 'dusk', 'dust', 'duvet', 'dvd', 'dvg', 'dwn', 'dying', 'eachother', 'ear', 'earlier', 'early', 'earn', 'earning', 'earth', 'easier', 'eastenders', 'easter', 'easy', 'eat', 'eaten', 'eatin', 'eating', 'ebay', 'echo', 'ecstacy', 'ecstasy', 'ed', 'edge', 'edhae', 'edison', 'edrunk', 'edu', 'education', 'educational', 'edward', 'ee', 'eek', 'eerie', 'eerulli', 'effect', 'effects', 'efreefone', 'egbon', 'egg', 'eggs', 'ego', 'eh', 'eighth', 'eightish', 'eire', 'elaborate', 'elaborating', 'elaine', 'elaya', 'eldest', 'elections', 'electricity', 'elephant', 'elliot', 'em', 'email', 'emailed', 'embarassed', 'embarassing', 'embarrassed', 'embassy', 'emergency', 'emily', 'emotion', 'employee', 'en', 'end', 'ended', 'ending', 'ends', 'enemy', 'energy', 'eng', 'engaged', 'engagement', 'engalnd', 'engin', 'england', 'english', 'enjoy', 'enjoyed', 'enjoyin', 'enna', 'ennal', 'ente', 'enter', 'entered', 'entertain', 'entey', 'entire', 'entitled', 'entrepreneurs', 'entropication', 'entry', 'enufcredeit', 'enuff', 'envelope', 'environment', 'envy', 'epi', 'eppolum', 'epsilon', 'equally', 'er', 'ere', 'ericson', 'ericsson', 'erm', 'erode', 'erotic', 'err', 'error', 'eruku', 'erupt', 'erutupalam', 'esaplanade', 'escalator', 'escape', 'ese', 'eshxxxxxxxxxxx', 'espe', 'especially', 'esplanade', 'essential', 'establish', 'eta', 'ethnicity', 'etlp', 'ettans', 'euro', 'eurodisinc', 'europe', 'evaluation', 'eve', 'eveb', 'evening', 'evenings', 'event', 'events', 'everybody', 'everyones', 'everyso', 'everythin', 'everytime', 'evey', 'eviction', 'evil', 'evn', 'evng', 'evo', 'evr', 'evrey', 'evry', 'ew', 'ex', 'exact', 'exactly', 'exam', 'exams', 'excellent', 'exchanged', 'excited', 'exciting', 'excuse', 'excused', 'excuses', 'exe', 'executive', 'exercise', 'exeter', 'exhaust', 'exhausted', 'exist', 'exmpel', 'exorcism', 'exorcist', 'exp', 'expect', 'expecting', 'expensive', 'experience', 'experiencehttp', 'experiment', 'expert', 'expired', 'expires', 'expiry', 'explain', 'explicit', 'explicitly', 'explosive', 'exposed', 'express', 'expression', 'expressoffer', 'extra', 'extract', 'ey', 'eye', 'eyes', 'fa', 'fab', 'face', 'facebook', 'facilities', 'fact', 'factory', 'facts', 'faded', 'faggot', 'faggy', 'faglord', 'failed', 'failing', 'fails', 'failure', 'fainting', 'fair', 'faith', 'fake', 'fal', 'falconerf', 'fall', 'fallen', 'falling', 'falls', 'fals', 'famamus', 'familiar', 'family', 'famous', 'fan', 'fancies', 'fancy', 'fans', 'fantasies', 'fantastic', 'fantasy', 'far', 'farm', 'farrell', 'fassyole', 'fast', 'faster', 'fastest', 'fat', 'fated', 'father', 'fathima', 'fault', 'fav', 'fave', 'favor', 'favorite', 'favour', 'favourite', 'fb', 'fear', 'feathery', 'features', 'feb', 'february', 'fed', 'fedex', 'feed', 'feel', 'feelin', 'feeling', 'feelingood', 'feellikw', 'feels', 'fees', 'feet', 'fell', 'fellow', 'felt', 'female', 'feng', 'festival', 'fetch', 'fetching', 'fever', 'fffff', 'ffffuuuuuuu', 'fgkslpo', 'fgkslpopw', 'fidalfication', 'field', 'fifa', 'fight', 'fighting', 'fightng', 'fights', 'figure', 'figures', 'figuring', 'file', 'files', 'filled', 'filling', 'fills', 'film', 'films', 'filth', 'filthy', 'filthyguys', 'final', 'finally', 'finance', 'financial', 'finding', 'fine', 'finest', 'fingers', 'finish', 'finishd', 'finished', 'finishes', 'finishing', 'fink', 'finn', 'fires', 'firmware', 'fish', 'fishhead', 'fishrman', 'fit', 'fiting', 'fix', 'fixd', 'fixed', 'fixedline', 'fixes', 'fizz', 'flag', 'flaked', 'flaky', 'flame', 'flash', 'flat', 'flavour', 'fletcher', 'flew', 'flies', 'flight', 'flights', 'flim', 'flip', 'flirt', 'flirtparty', 'floating', 'floor', 'floppy', 'florida', 'flow', 'flower', 'flowing', 'fluids', 'flung', 'fly', 'flying', 'flyng', 'fm', 'fml', 'fne', 'fo', 'foley', 'folks', 'follow', 'followed', 'followin', 'following', 'follows', 'fone', 'foned', 'fones', 'fonin', 'food', 'fool', 'fooled', 'fools', 'foot', 'football', 'footie', 'footprints', 'footy', 'force', 'forced', 'foregate', 'foreign', 'forever', 'forevr', 'forfeit', 'forget', 'forgets', 'forgive', 'forgiven', 'forgiveness', 'forgot', 'forgotten', 'forgt', 'form', 'formal', 'formally', 'format', 'formatting', 'forms', 'forth', 'fortune', 'forum', 'forums', 'forward', 'forwarded', 'forwarding', 'foundurself', 'foward', 'fox', 'fps', 'fr', 'fraction', 'fran', 'frank', 'frankie', 'franxx', 'franyxxxxx', 'frauds', 'freak', 'freaked', 'freaking', 'freaky', 'free', 'freedom', 'freeentry', 'freefone', 'freely', 'freemsg', 'freephone', 'freezing', 'freinds', 'fren', 'french', 'frens', 'fresh', 'freshers', 'fri', 'friday', 'fridays', 'fridge', 'fried', 'friend', 'friends', 'friendsare', 'friendship', 'friendships', 'fringe', 'frm', 'frmcloud', 'frnd', 'frnds', 'frndship', 'frndshp', 'frndsship', 'frndz', 'frnt', 'fromm', 'fromwrk', 'frontierville', 'fruit', 'frying', 'ft', 'fuck', 'fuckin', 'fucking', 'fuckinnice', 'fucks', 'fudge', 'fuelled', 'fujitsu', 'ful', 'fullonsms', 'fumbling', 'fun', 'function', 'functions', 'fund', 'fundamentals', 'funeral', 'funk', 'funky', 'funny', 'furniture', 'fusion', 'future', 'fyi', 'gail', 'gailxx', 'gain', 'gained', 'gal', 'galileo', 'gals', 'gamb', 'game', 'games', 'gamestar', 'ganesh', 'gang', 'gap', 'gaps', 'garage', 'garbage', 'garden', 'gari', 'garments', 'gary', 'gas', 'gastroenteritis', 'gauge', 'gautham', 'gauti', 'gave', 'gay', 'gayle', 'gays', 'gaytextbuddy', 'gaze', 'gbp', 'gd', 'gdeve', 'ge', 'gee', 'geeee', 'geeeee', 'gei', 'gender', 'generally', 'genius', 'gent', 'gentle', 'gentleman', 'gently', 'genuine', 'geoenvironmental', 'george', 'gep', 'ger', 'germany', 'getiing', 'geting', 'gets', 'getstop', 'gettin', 'getting', 'getzed', 'gf', 'ghodbandar', 'ghost', 'gibbs', 'gift', 'gifted', 'gifts', 'giggle', 'gigolo', 'gimme', 'gimmi', 'gin', 'girl', 'girlfrnd', 'girlie', 'girls', 'gist', 'giv', 'given', 'gives', 'giving', 'glad', 'global', 'glory', 'gloucesterroad', 'gm', 'gmw', 'gn', 'gnarls', 'gnt', 'gnun', 'goal', 'goals', 'god', 'gods', 'goes', 'goggles', 'goigng', 'goin', 'going', 'gokila', 'gold', 'golddigger', 'golden', 'goldviking', 'golf', 'gona', 'gone', 'gonna', 'gonnamissu', 'good', 'goodevening', 'goodfriend', 'goodies', 'goodmate', 'goodmorning', 'goodnight', 'goodnite', 'goodnoon', 'goodo', 'goods', 'goodtime', 'google', 'gopalettan', 'gorgeous', 'gosh', 'goss', 'got', 'gotany', 'gotbabes', 'gotmarried', 'goto', 'gotta', 'gotten', 'gotto', 'govt', 'gower', 'gpu', 'grab', 'grace', 'grahmbell', 'gram', 'gran', 'grand', 'grandfather', 'grandma', 'grandmas', 'granite', 'graphics', 'grasp', 'grateful', 'gravity', 'gravy', 'gre', 'great', 'greatest', 'greatly', 'greatness', 'greece', 'green', 'greet', 'greetings', 'grief', 'grins', 'grl', 'grocers', 'grooved', 'ground', 'group', 'grow', 'growing', 'grownup', 'grr', 'grumble', 'gsex', 'gsoh', 'gt', 'guai', 'guarantee', 'guaranteed', 'gud', 'gudnite', 'gudnyt', 'guess', 'guesses', 'guide', 'guides', 'guild', 'guitar', 'gumby', 'guy', 'guys', 'gving', 'gym', 'gymnastics', 'gyno', 'ha', 'habit', 'hack', 'haf', 'haha', 'hahaha', 'hai', 'hail', 'hair', 'hairdressers', 'haiz', 'half', 'hall', 'halla', 'hallaq', 'halloween', 'ham', 'hamper', 'hamster', 'hand', 'handed', 'handing', 'handle', 'hands', 'handset', 'handsome', 'handsomes', 'hang', 'hanger', 'hanging', 'hannaford', 'hanuman', 'hanumanji', 'happen', 'happend', 'happened', 'happenin', 'happening', 'happens', 'happier', 'happiness', 'happy', 'hard', 'hardcore', 'harder', 'hardly', 'hari', 'harish', 'harlem', 'harry', 'hasbro', 'hasn', 'hat', 'hate', 'haul', 'haunt', 'hav', 'hava', 'havbeen', 'havebeen', 'haven', 'havent', 'haventcn', 'havin', 'having', 'havn', 'havnt', 'hcl', 'hdd', 'head', 'headin', 'heading', 'heads', 'headset', 'headstart', 'heal', 'heap', 'hear', 'heard', 'heart', 'hearts', 'heater', 'heaven', 'heavily', 'heavy', 'hectic', 'hee', 'heehee', 'hehe', 'height', 'held', 'helen', 'helens', 'hell', 'hella', 'hello', 'hellogorgeous', 'helloooo', 'help', 'helping', 'helpline', 'helps', 'heltini', 'hen', 'henry', 'hero', 'heroes', 'heron', 'hes', 'hesitation', 'hex', 'hey', 'hg', 'hhahhaahahah', 'hi', 'hidden', 'hide', 'hides', 'hiding', 'high', 'highest', 'hill', 'hills', 'hillsborough', 'himso', 'hint', 'hip', 'hiphop', 'hire', 'history', 'hit', 'hitman', 'hitter', 'hittng', 'hiya', 'hl', 'hlday', 'hlp', 'hm', 'hme', 'hmm', 'hmmm', 'hmmmm', 'hmmross', 'hmv', 'ho', 'hockey', 'hogidhe', 'hogli', 'hogolo', 'holby', 'hold', 'holder', 'holding', 'hole', 'holiday', 'holla', 'hollalater', 'hols', 'holy', 'home', 'homeowners', 'hon', 'honest', 'honestly', 'honesty', 'honey', 'honeybee', 'honeymoon', 'honi', 'hont', 'hoody', 'hook', 'hooked', 'hoops', 'hop', 'hope', 'hoped', 'hopefully', 'hopeing', 'hopeu', 'hoping', 'hor', 'horny', 'horo', 'horrible', 'horse', 'hos', 'hospital', 'hospitals', 'host', 'hostel', 'hot', 'hotel', 'hotels', 'hotmix', 'hottest', 'hour', 'hourish', 'hours', 'house', 'housewives', 'housework', 'housing', 'howard', 'howdy', 'hows', 'howu', 'howz', 'hp', 'hppnss', 'hr', 'hrishi', 'hrs', 'hsbc', 'http', 'huai', 'hubby', 'hug', 'huge', 'hugs', 'huh', 'hui', 'humanities', 'humans', 'hun', 'hundreds', 'hungover', 'hungry', 'hunks', 'hunny', 'hunt', 'hunting', 'hurricanes', 'hurried', 'hurry', 'hurt', 'hurting', 'hurts', 'husband', 'hussey', 'hustle', 'hut', 'hv', 'hw', 'hyde', 'hype', 'hypertension', 'iam', 'ias', 'ibh', 'ibhltd', 'ibiza', 'ibm', 'ibn', 'ibored', 'ibuprofens', 'ic', 'ice', 'icic', 'icicibank', 'id', 'idc', 'idea', 'ideal', 'ideas', 'identifier', 'idew', 'idiot', 'idk', 'idps', 'idu', 'iff', 'ifink', 'ignorant', 'ignore', 'ihave', 'ijust', 'ikea', 'iknow', 'il', 'ileave', 'ill', 'illness', 'illspeak', 'ilol', 'im', 'imagine', 'imat', 'imf', 'img', 'imma', 'immediately', 'imp', 'impatient', 'implications', 'important', 'importantly', 'imposed', 'impossible', 'imposter', 'impress', 'impressively', 'improve', 'improved', 'imprtant', 'inch', 'inches', 'incident', 'inclu', 'include', 'including', 'inclusive', 'incomm', 'inconsiderate', 'inconvenience', 'inconvenient', 'incorrect', 'increase', 'increments', 'inde', 'independence', 'independently', 'index', 'india', 'indian', 'indians', 'indicate', 'individual', 'indyarocks', 'infact', 'infernal', 'info', 'inform', 'information', 'informed', 'infra', 'infront', 'ing', 'ingredients', 'initiate', 'ink', 'inlude', 'inner', 'innings', 'innocent', 'innu', 'inperialmusic', 'inr', 'insects', 'insha', 'inshah', 'inside', 'install', 'installation', 'instant', 'instantly', 'instead', 'instituitions', 'instructions', 'insurance', 'intelligent', 'intend', 'intention', 'interested', 'interesting', 'interfued', 'internal', 'internet', 'interview', 'interviews', 'interviw', 'intha', 'intro', 'invaders', 'invention', 'invest', 'invitation', 'invite', 'invited', 'inviting', 'invnted', 'invoices', 'involve', 'involved', 'iouri', 'ipad', 'ipaditan', 'ipads', 'ipod', 'iq', 'iraq', 'irene', 'iriver', 'ironing', 'irritated', 'irritates', 'irritating', 'irulinae', 'iscoming', 'ish', 'ishtamayoo', 'island', 'islands', 'isn', 'isnt', 'issue', 'issues', 'italian', 'itcould', 'items', 'iter', 'itna', 'itwhichturnedinto', 'itxt', 'itz', 'ivatte', 'ive', 'iwana', 'iwas', 'iyo', 'iz', 'izzit', 'jacket', 'jackpot', 'jacuzzi', 'jada', 'jade', 'jaklin', 'jam', 'james', 'jamster', 'jamz', 'jan', 'janarige', 'jane', 'january', 'jap', 'japanese', 'jas', 'jason', 'java', 'jay', 'jaya', 'jaykwon', 'jaz', 'jazz', 'jd', 'je', 'jealous', 'jeans', 'jeevithathile', 'jelly', 'jen', 'jenny', 'jenxxx', 'jeremiah', 'jerk', 'jerry', 'jersey', 'jess', 'jesus', 'jet', 'jez', 'ji', 'jia', 'jiayin', 'jide', 'jiu', 'joanna', 'job', 'jobs', 'jobyet', 'jocks', 'jod', 'jog', 'jogging', 'john', 'join', 'joined', 'joining', 'joke', 'joker', 'jokes', 'jokin', 'joking', 'jolly', 'jolt', 'jon', 'jontin', 'jordan', 'jorge', 'jos', 'jot', 'journey', 'joy', 'jp', 'js', 'jst', 'jstfrnd', 'jsut', 'juan', 'judgemental', 'juicy', 'jul', 'juliana', 'julianaland', 'july', 'jump', 'jumpers', 'june', 'jungle', 'junna', 'jus', 'just', 'justbeen', 'justfound', 'justify', 'juz', 'kadeem', 'kaiez', 'kaila', 'kaitlyn', 'kalaachutaarama', 'kalainar', 'kalisidare', 'kallis', 'kalstiya', 'kama', 'kanagu', 'kane', 'kanji', 'kano', 'kappa', 'karaoke', 'karo', 'kate', 'katexxx', 'kath', 'kavalan', 'kb', 'ke', 'keen', 'keeping', 'keeps', 'kegger', 'keluviri', 'ken', 'kent', 'kept', 'kerala', 'keralacircle', 'keris', 'kettoda', 'key', 'keys', 'kfc', 'kg', 'khelate', 'ki', 'kick', 'kickboxing', 'kicks', 'kid', 'kidding', 'kids', 'kidz', 'kiefer', 'kill', 'killed', 'killing', 'kills', 'kind', 'kinda', 'kindly', 'king', 'kingdom', 'kintu', 'kiosk', 'kip', 'kiss', 'kisses', 'kissing', 'kittum', 'kitty', 'knew', 'knickers', 'knocking', 'know', 'known', 'knows', 'knw', 'kochi', 'kodstini', 'kodthini', 'kolathupalayam', 'konw', 'korean', 'kothi', 'kr', 'ktv', 'kudi', 'kusruthi', 'la', 'lab', 'labor', 'lac', 'lacking', 'lacs', 'ladies', 'lady', 'lag', 'lage', 'laid', 'lakhs', 'lambu', 'lamp', 'lancaster', 'land', 'landing', 'landline', 'landlineonly', 'landlines', 'lands', 'lane', 'langport', 'language', 'lanka', 'laptop', 'lar', 'lara', 'laready', 'large', 'largest', 'lastest', 'lasting', 'late', 'lately', 'latelyxxx', 'later', 'latest', 'latests', 'latr', 'laugh', 'laughed', 'laughing', 'laughs', 'lautech', 'lavender', 'law', 'laxinorficated', 'laying', 'lays', 'lazy', 'lccltd', 'ld', 'ldew', 'ldn', 'le', 'lead', 'leading', 'leafcutter', 'leanne', 'learn', 'learned', 'leave', 'leaves', 'leaving', 'lect', 'lecture', 'left', 'leftovers', 'leg', 'legal', 'legitimat', 'legs', 'leh', 'lei', 'lemme', 'length', 'lennon', 'leona', 'leonardo', 'les', 'lesser', 'lesson', 'lessons', 'let', 'lets', 'letter', 'letters', 'level', 'liao', 'lib', 'libertines', 'library', 'lick', 'licks', 'lido', 'lie', 'lies', 'life', 'lifetime', 'lifpartnr', 'lift', 'light', 'lik', 'like', 'liked', 'likely', 'likes', 'liking', 'lil', 'lily', 'lim', 'limiting', 'limits', 'limping', 'lindsay', 'line', 'lined', 'linerental', 'lines', 'lingerie', 'lingo', 'link', 'linux', 'lion', 'lionm', 'lionp', 'lions', 'lip', 'lips', 'liquor', 'list', 'listed', 'listen', 'listening', 'lists', 'lit', 'little', 'live', 'liverpool', 'lives', 'living', 'll', 'llc', 'llspeak', 'lmao', 'lnly', 'lo', 'load', 'loads', 'loan', 'lobby', 'local', 'location', 'locations', 'locaxx', 'lodge', 'lodging', 'log', 'logged', 'logging', 'login', 'logo', 'logoff', 'logos', 'loko', 'lol', 'lolnice', 'lololo', 'londn', 'london', 'loneliness', 'lonely', 'long', 'longer', 'lonlines', 'loo', 'look', 'lookatme', 'looked', 'lookin', 'looking', 'looks', 'lool', 'looovvve', 'loose', 'loosing', 'loosu', 'lor', 'lord', 'lose', 'loses', 'losing', 'loss', 'lost', 'lot', 'lotr', 'lots', 'lotta', 'lotto', 'lotz', 'lou', 'loud', 'lounge', 'lousy', 'lov', 'lovable', 'love', 'loved', 'lovejen', 'lovely', 'loveme', 'lover', 'loverboy', 'lovers', 'loves', 'lovin', 'loving', 'lovingly', 'lovly', 'low', 'lower', 'lowes', 'loxahatchee', 'loyal', 'loyalty', 'lrg', 'lst', 'lt', 'ltdhelpdesk', 'lubly', 'luck', 'lucky', 'lucozade', 'lucyxx', 'luks', 'lunch', 'lush', 'luton', 'luv', 'luvd', 'luvs', 'lux', 'luxury', 'lvblefrnd', 'lyf', 'lyfu', 'lyk', 'lyricalladie', 'ma', 'maaaan', 'maangalyam', 'mac', 'macedonia', 'macha', 'machan', 'machi', 'machines', 'macho', 'mack', 'macleran', 'mad', 'madam', 'madodu', 'madoke', 'madstini', 'madurai', 'mag', 'maga', 'magazine', 'maggi', 'magical', 'magicalsongs', 'mah', 'mahal', 'mahaveer', 'mahfuuz', 'maid', 'mail', 'mailbox', 'mailed', 'mails', 'main', 'maintain', 'major', 'make', 'makes', 'makin', 'making', 'malaria', 'male', 'mall', 'mallika', 'man', 'manage', 'managed', 'management', 'manchester', 'manda', 'mandan', 'mandara', 'mandy', 'maneesha', 'manege', 'maniac', 'manual', 'map', 'maps', 'marandratha', 'march', 'maretare', 'margaret', 'margin', 'marine', 'mark', 'market', 'marketing', 'marking', 'marley', 'marrge', 'marriage', 'married', 'marry', 'marsms', 'maruti', 'marvel', 'mary', 'mas', 'masked', 'massage', 'massages', 'massive', 'masteriastering', 'masters', 'mat', 'match', 'matched', 'matches', 'mate', 'mates', 'math', 'mathematics', 'maths', 'matra', 'matric', 'matter', 'matthew', 'matured', 'maturity', 'max', 'maximize', 'maximum', 'mayb', 'maybe', 'mb', 'mc', 'mcat', 'mcfly', 'meal', 'meals', 'mean', 'meaning', 'means', 'meant', 'measure', 'meat', 'meatballs', 'med', 'medical', 'medicine', 'meds', 'mee', 'meet', 'meetin', 'meeting', 'meets', 'meg', 'mega', 'meh', 'mei', 'meive', 'mel', 'melle', 'melnite', 'melody', 'melt', 'member', 'members', 'membership', 'memorable', 'memories', 'memory', 'men', 'mens', 'mental', 'mention', 'mentioned', 'mentionned', 'mentor', 'menu', 'meow', 'merely', 'merememberin', 'merry', 'mess', 'message', 'messaged', 'messages', 'messaging', 'messed', 'messenger', 'messy', 'met', 'mf', 'mgs', 'mi', 'mia', 'michael', 'mid', 'middle', 'midnight', 'mids', 'miiiiiiissssssssss', 'mike', 'mila', 'mileage', 'miles', 'milk', 'millers', 'min', 'mina', 'minapn', 'mind', 'minded', 'mindset', 'mini', 'minimum', 'minmobsmore', 'minnaminunginte', 'minor', 'mins', 'mint', 'minute', 'minutes', 'minuts', 'miracle', 'mirror', 'mis', 'misbehaved', 'miserable', 'misfits', 'mising', 'misplaced', 'miss', 'misscall', 'missed', 'missin', 'missing', 'missions', 'misss', 'missy', 'mist', 'mistake', 'mistakes', 'mite', 'mitsake', 'miwa', 'mix', 'mj', 'mjzgroup', 'mm', 'mmm', 'mmmm', 'mmmmmm', 'mmmmmmm', 'mmsto', 'mns', 'mnth', 'mnths', 'mo', 'moan', 'mob', 'mobcudb', 'mobile', 'mobiles', 'mobilesdirect', 'mobilesvary', 'mobno', 'mobs', 'mobsi', 'moby', 'mode', 'model', 'modl', 'module', 'modules', 'mofo', 'moji', 'mojibiola', 'mokka', 'molested', 'mom', 'moment', 'moments', 'moms', 'mon', 'monday', 'mone', 'money', 'monkeespeople', 'monkey', 'monkeyaround', 'monkeys', 'mono', 'monoc', 'monos', 'month', 'monthly', 'monthlysubscription', 'months', 'mood', 'moon', 'moral', 'morefrmmob', 'morn', 'mornin', 'morning', 'mornings', 'morphine', 'morrow', 'moseley', 'mother', 'motherfucker', 'motivate', 'motivating', 'motor', 'motorola', 'mountain', 'mountains', 'mouse', 'mouth', 'moved', 'moves', 'movie', 'movies', 'moving', 'mquiz', 'mr', 'mre', 'mrng', 'mrt', 'ms', 'msg', 'msging', 'msgrcvd', 'msgrcvdhg', 'msgs', 'msn', 'mt', 'mtalk', 'mth', 'mths', 'mtmsg', 'mtnl', 'mu', 'muah', 'muchand', 'muchxxlove', 'mufti', 'muhommad', 'muht', 'multiply', 'multis', 'mum', 'mumbai', 'mumhas', 'mummy', 'mums', 'mumtaz', 'mundhe', 'munsters', 'murali', 'murder', 'murdered', 'murderer', 'mush', 'mushy', 'music', 'musical', 'musicnews', 'musta', 'musthu', 'mustprovide', 'mutai', 'muz', 'mw', 'mwahs', 'mylife', 'mymoby', 'myparents', 'myspace', 'mystery', 'na', 'naal', 'nachos', 'nag', 'nagar', 'nah', 'nails', 'naked', 'nalla', 'nalli', 'names', 'nammanna', 'nan', 'nange', 'nap', 'nasdaq', 'nasty', 'nat', 'natalie', 'natalja', 'national', 'nationwide', 'nattil', 'natural', 'nature', 'natwest', 'naughty', 'nauseous', 'nav', 'nb', 'nbme', 'nd', 'ndship', 'ne', 'near', 'nearer', 'nearly', 'necesity', 'necessarily', 'necessary', 'necessity', 'neck', 'necklace', 'ned', 'need', 'needa', 'needed', 'needing', 'needle', 'needs', 'needy', 'neekunna', 'neft', 'negative', 'neglet', 'neighbors', 'neshanth', 'net', 'netcollex', 'netflix', 'nething', 'netun', 'netvision', 'network', 'networking', 'networks', 'neva', 'neville', 'nevr', 'new', 'neway', 'newest', 'newport', 'news', 'newspapers', 'nhs', 'nic', 'nice', 'nichols', 'nick', 'nicky', 'nig', 'nigeria', 'nigh', 'night', 'nighters', 'nightnight', 'nights', 'nigpun', 'nigro', 'nike', 'nimbomsons', 'nimya', 'nipost', 'nit', 'nite', 'nitro', 'nitros', 'nitw', 'njan', 'nmde', 'noe', 'noi', 'noice', 'noisy', 'nokia', 'nokias', 'noline', 'non', 'noncomittal', 'nonetheless', 'nookii', 'noon', 'nope', 'nora', 'norcorp', 'nordstrom', 'norm', 'normal', 'normally', 'north', 'northampton', 'nos', 'nosh', 'nosy', 'note', 'nothin', 'notice', 'notifications', 'notified', 'notixiquating', 'nottingham', 'notxt', 'noun', 'novelty', 'november', 'nowadays', 'nri', 'nt', 'nte', 'ntt', 'ntwk', 'nuclear', 'nudist', 'nuerologist', 'num', 'number', 'numbers', 'nurungu', 'nus', 'nuther', 'nutter', 'nver', 'nvm', 'nvq', 'nw', 'nxt', 'ny', 'nyc', 'nydc', 'nyt', 'nytho', 'nz', 'nìte', 'oath', 'obedient', 'oblisingately', 'oblivious', 'obviously', 'occupied', 'occupy', 'occur', 'occurs', 'ocean', 'october', 'odalebeku', 'odi', 'offc', 'offense', 'offer', 'offered', 'offering', 'offers', 'office', 'officer', 'official', 'officially', 'offline', 'ofice', 'ofsi', 'oga', 'oh', 'oi', 'oic', 'oil', 'ok', 'okay', 'okey', 'okie', 'okies', 'okmail', 'okors', 'ola', 'olage', 'olave', 'olayiwola', 'old', 'oli', 'olowoyey', 'olympics', 'omg', 'omw', 'onam', 'onbus', 'oncall', 'ondu', 'ones', 'oni', 'onion', 'online', 'onlyfound', 'onwards', 'onwords', 'ooh', 'oooh', 'ooooooh', 'oops', 'open', 'opened', 'opener', 'openin', 'opening', 'openings', 'operate', 'operator', 'opinion', 'opinions', 'opponenter', 'opportunity', 'opposite', 'opt', 'opted', 'option', 'optout', 'orange', 'oranges', 'orc', 'orchard', 'order', 'ordered', 'ordinator', 'oredi', 'oreo', 'oreos', 'org', 'orh', 'orig', 'original', 'orno', 'ors', 'ortxt', 'oru', 'oscar', 'oso', 'othrwise', 'otside', 'ou', 'ouch', 'ourbacks', 'outages', 'outbid', 'outfit', 'outfor', 'outgoing', 'outrageous', 'outreach', 'outs', 'outside', 'outsider', 'outsomewhere', 'outstanding', 'outta', 'ovarian', 'overa', 'overdid', 'overdose', 'overemphasise', 'overtime', 'ovr', 'ovulation', 'ow', 'owe', 'owed', 'owl', 'owned', 'owns', 'oxygen', 'oyster', 'oz', 'pa', 'paces', 'pack', 'package', 'packing', 'packs', 'padhe', 'page', 'pages', 'pai', 'paid', 'pain', 'painful', 'paining', 'palm', 'pan', 'panalam', 'panasonic', 'panic', 'panicks', 'panren', 'pansy', 'panther', 'panties', 'pap', 'paper', 'papers', 'parachute', 'parade', 'paragon', 'parantella', 'parco', 'parent', 'parents', 'paris', 'parish', 'park', 'parked', 'parkin', 'parking', 'participate', 'particular', 'particularly', 'parties', 'partner', 'partnership', 'parts', 'party', 'paru', 'pass', 'passed', 'passes', 'passion', 'passionate', 'password', 'passwords', 'past', 'patent', 'path', 'paths', 'patty', 'paul', 'pause', 'pavanaputra', 'pax', 'pay', 'payed', 'payee', 'paying', 'payment', 'payments', 'payoh', 'paypal', 'pc', 'pdate', 'peace', 'peaceful', 'peach', 'peak', 'pears', 'pee', 'peeps', 'pence', 'pending', 'penis', 'penny', 'people', 'peoples', 'percent', 'perf', 'perfect', 'performance', 'performed', 'perfume', 'peril', 'period', 'permissions', 'perpetual', 'persevered', 'persolvo', 'person', 'personal', 'personality', 'personally', 'persons', 'perspective', 'perumbavoor', 'pesky', 'pete', 'petexxx', 'petey', 'petrol', 'petticoatdreams', 'pg', 'ph', 'pharmacy', 'phews', 'phil', 'philosophical', 'philosophy', 'phne', 'phoenix', 'phone', 'phoned', 'phones', 'photo', 'photos', 'photoshop', 'php', 'phyhcmk', 'piah', 'pic', 'pick', 'picked', 'picking', 'pickle', 'pics', 'picture', 'pictures', 'pie', 'piece', 'pieces', 'pierre', 'pig', 'pilates', 'pile', 'pin', 'pink', 'pisces', 'piss', 'pissed', 'pity', 'pix', 'pixels', 'pizza', 'pl', 'place', 'placement', 'places', 'plan', 'plane', 'planettalkinstant', 'planned', 'planning', 'plans', 'plate', 'play', 'played', 'player', 'players', 'playing', 'plaza', 'pleasant', 'pleased', 'pleassssssseeeeee', 'pleasure', 'plenty', 'plm', 'ploughing', 'pls', 'plumbers', 'plumbing', 'plural', 'plus', 'plyr', 'plz', 'pm', 'pmt', 'po', 'pobox', 'pocked', 'pocketbabe', 'pockets', 'pocy', 'pod', 'poem', 'point', 'points', 'poker', 'pokkiri', 'pole', 'police', 'politicians', 'polo', 'poly', 'polyc', 'polyh', 'polyph', 'polyphonic', 'polys', 'pongal', 'ponnungale', 'pookie', 'pool', 'poop', 'poor', 'poorly', 'poortiyagi', 'pop', 'popcorn', 'popped', 'popping', 'porn', 'porridge', 'portal', 'portions', 'pos', 'pose', 'position', 'positions', 'positive', 'possession', 'possessive', 'possessiveness', 'possibility', 'possible', 'possibly', 'post', 'postcard', 'postcode', 'posted', 'posting', 'postponed', 'posts', 'potato', 'potential', 'potter', 'pouch', 'pound', 'pounded', 'pounds', 'poured', 'pours', 'pouts', 'power', 'poyyarikatur', 'ppl', 'pple', 'ppm', 'prabha', 'prabu', 'pract', 'practical', 'practice', 'practicing', 'practising', 'prakasam', 'prakasamanu', 'praps', 'prasad', 'prasanth', 'praveesh', 'pray', 'praying', 'prayrs', 'predict', 'predicte', 'predicting', 'prediction', 'predictive', 'prefer', 'preferably', 'prem', 'premarica', 'premier', 'premium', 'prepaid', 'prepare', 'prepayment', 'preponed', 'preschoolco', 'prescribed', 'prescription', 'presence', 'present', 'presents', 'presnts', 'press', 'pressure', 'prestige', 'pretsorginta', 'pretsovru', 'pretty', 'prevent', 'previews', 'previous', 'previously', 'prey', 'price', 'prices', 'pride', 'priest', 'prin', 'prince', 'princes', 'princess', 'print', 'printed', 'printing', 'prior', 'priscilla', 'private', 'prix', 'priya', 'prize', 'prizeawaiting', 'prizes', 'prizeswith', 'prob', 'probably', 'problem', 'problematic', 'problems', 'problum', 'probpop', 'probs', 'probthat', 'process', 'processed', 'prof', 'professors', 'profit', 'program', 'progress', 'project', 'projects', 'prolly', 'prometazine', 'prominent', 'promise', 'promised', 'promises', 'promo', 'promoting', 'promotion', 'promptly', 'prompts', 'prone', 'proof', 'proper', 'properly', 'property', 'propose', 'props', 'pros', 'prospects', 'protect', 'prove', 'proverb', 'provided', 'provider', 'providing', 'province', 'proze', 'ps', 'pshew', 'psxtra', 'ptbo', 'pthis', 'pub', 'public', 'pubs', 'pull', 'punish', 'punishment', 'punj', 'punto', 'pura', 'purchase', 'purchases', 'purity', 'purple', 'purpose', 'purse', 'push', 'pushbutton', 'pussy', 'puts', 'puttin', 'putting', 'puzzeles', 'puzzles', 'qatar', 'qbank', 'qet', 'qi', 'qjkgighjjgcbl', 'qlynnbv', 'quality', 'quarter', 'queen', 'queries', 'ques', 'question', 'questions', 'quick', 'quickly', 'quiet', 'quit', 'quite', 'quiteamuzing', 'quitting', 'quiz', 'quizclub', 'quote', 'quoting', 'racal', 'racing', 'radiator', 'radio', 'raed', 'rael', 'raglan', 'rahul', 'raiden', 'railway', 'rain', 'raining', 'raise', 'raised', 'raj', 'rajas', 'raji', 'rajini', 'rajnikant', 'rakhesh', 'rally', 'ralphs', 'ramaduth', 'ramen', 'ran', 'random', 'randomlly', 'randomly', 'randy', 'rang', 'range', 'ranjith', 'raping', 'rate', 'rates', 'ratio', 'rats', 'rawring', 'rayan', 'rayman', 'rays', 'rcb', 'rct', 'rcv', 'rcvd', 'rd', 'rdy', 'reach', 'reache', 'reached', 'reaching', 'reacting', 'reaction', 'read', 'readers', 'reading', 'ready', 'real', 'realise', 'realising', 'reality', 'realize', 'realized', 'realizes', 'really', 'realy', 'reapply', 'reason', 'reasonable', 'reasons', 'reassurance', 'reassuring', 'reboot', 'rebooting', 'recd', 'receipt', 'receipts', 'receive', 'receivea', 'received', 'receiving', 'recent', 'recently', 'reception', 'recession', 'recharge', 'recharged', 'recieve', 'reckon', 'recognise', 'recognises', 'record', 'recorded', 'recorder', 'records', 'recovery', 'recpt', 'recycling', 'red', 'redeemed', 'reduce', 'ref', 'reference', 'references', 'referin', 'reffering', 'refilled', 'reflex', 'reformat', 'refreshed', 'refunded', 'refused', 'reg', 'regard', 'regarding', 'regards', 'register', 'registered', 'regret', 'regretted', 'regular', 'rejected', 'related', 'relation', 'relationship', 'relax', 'relaxing', 'released', 'reliant', 'relieved', 'religiously', 'rem', 'remain', 'remains', 'remember', 'remembered', 'rememberi', 'remembr', 'remembrs', 'remind', 'reminder', 'reminding', 'remixed', 'removal', 'remove', 'removed', 'rencontre', 'renewed', 'renewing', 'rent', 'rental', 'renting', 'rentl', 'rents', 'repairs', 'repeat', 'repent', 'replace', 'replacement', 'replacing', 'replied', 'replies', 'reply', 'replying', 'report', 'reppurcussions', 'representative', 'republic', 'request', 'requests', 'required', 'requirements', 'requires', 'research', 'resend', 'resent', 'reservations', 'reserve', 'reserves', 'reset', 'resolution', 'resolved', 'resort', 'respect', 'respectful', 'responce', 'respond', 'responding', 'response', 'responsibility', 'responsible', 'rest', 'restaurant', 'restock', 'restrict', 'restrictions', 'resubbing', 'resubmit', 'result', 'results', 'resume', 'resuming', 'retard', 'retrieve', 'return', 'returned', 'returning', 'returns', 'reunion', 'reveal', 'revealed', 'revealing', 'reverse', 'review', 'revision', 'reward', 'rewarding', 'rgds', 'rhode', 'rhythm', 'rice', 'rich', 'riddance', 'ride', 'right', 'rightly', 'rights', 'riley', 'ring', 'rings', 'ringtone', 'ringtones', 'rip', 'ripped', 'rise', 'risk', 'rite', 'river', 'road', 'roads', 'roast', 'rob', 'robs', 'rock', 'rocks', 'rodger', 'rofl', 'roger', 'role', 'roles', 'roller', 'romantic', 'romcapspam', 'ron', 'room', 'roommate', 'roommates', 'rooms', 'ros', 'rose', 'roses', 'round', 'rounder', 'rounds', 'route', 'row', 'rowdy', 'rows', 'royal', 'rpl', 'rply', 'rs', 'rstm', 'rtf', 'rtm', 'rto', 'ru', 'rub', 'rubber', 'rude', 'rudi', 'rugby', 'ruin', 'ruining', 'rule', 'rules', 'rum', 'rumbling', 'rummer', 'rumour', 'run', 'running', 'runs', 'rupaul', 'rush', 'rushing', 'rwm', 'ryan', 'sac', 'sachin', 'sack', 'sacrifice', 'sad', 'sae', 'saeed', 'safe', 'safely', 'safety', 'sagamu', 'saibaba', 'said', 'sake', 'salad', 'salam', 'salary', 'sale', 'sales', 'salesman', 'sall', 'salmon', 'salon', 'salt', 'sam', 'samantha', 'sandiago', 'sane', 'sang', 'sankatmochan', 'sankranti', 'santa', 'santacalling', 'sao', 'sapna', 'sar', 'sara', 'sarasota', 'sarcasm', 'saristar', 'sariyag', 'sary', 'sashimi', 'sat', 'satanic', 'sathy', 'satisfied', 'satisfy', 'satsgettin', 'satthen', 'saturday', 'saucy', 'sausage', 'savamob', 'save', 'saved', 'savings', 'saw', 'say', 'sayin', 'saying', 'says', 'sayy', 'sc', 'scallies', 'scammers', 'scarcasim', 'scared', 'scary', 'scenario', 'scenery', 'sch', 'schedule', 'school', 'schools', 'science', 'scold', 'scool', 'scorable', 'score', 'scores', 'scoring', 'scotch', 'scotland', 'scotsman', 'scraped', 'scratching', 'scream', 'screamed', 'screaming', 'screen', 'screwd', 'scrounge', 'sculpture', 'sd', 'sday', 'sea', 'search', 'searching', 'season', 'seat', 'sec', 'second', 'seconds', 'secret', 'secretary', 'secretly', 'secrets', 'secs', 'section', 'sections', 'secure', 'secured', 'sed', 'seeds', 'seeing', 'seekers', 'seeking', 'seen', 'seh', 'sehwag', 'seing', 'select', 'selected', 'selection', 'self', 'selfish', 'selflessness', 'sell', 'selling', 'sells', 'sem', 'semester', 'semi', 'semiobscure', 'sen', 'send', 'sender', 'sending', 'sends', 'senor', 'senrd', 'sense', 'senses', 'sensible', 'sensitive', 'sent', 'sentence', 'senthil', 'sentiment', 'sept', 'serena', 'series', 'seriously', 'served', 'service', 'services', 'serving', 'servs', 'set', 'setting', 'settings', 'settle', 'settled', 'settling', 'seven', 'sex', 'sexiest', 'sextextuk', 'sexual', 'sexy', 'sexychat', 'sez', 'sf', 'sg', 'sh', 'sha', 'shade', 'shag', 'shahjahan', 'shakara', 'shake', 'shakespeare', 'shall', 'shame', 'shampain', 'shangela', 'shanghai', 'shanil', 'shant', 'shaping', 'share', 'shared', 'sharing', 'shattered', 'shaved', 'shb', 'shd', 'sheets', 'sheffield', 'shelf', 'shell', 'shelves', 'sherawat', 'shesil', 'shexy', 'shhhhh', 'shifad', 'shijas', 'shijutta', 'shinco', 'shindig', 'shining', 'shiny', 'ship', 'shipped', 'shipping', 'shirt', 'shirts', 'shit', 'shite', 'shitload', 'shivratri', 'shld', 'shldxxxx', 'shock', 'shocking', 'shoes', 'shola', 'shoot', 'shop', 'shoppin', 'shopping', 'shoranur', 'shore', 'short', 'shortage', 'shortbreaks', 'shortcode', 'shorter', 'shortly', 'shorts', 'shot', 'shoul', 'shouldn', 'shouting', 'shove', 'shoving', 'showed', 'shower', 'showered', 'showers', 'showing', 'showrooms', 'shows', 'shracomorsglsuplt', 'shrink', 'shrub', 'shsex', 'shud', 'shudvetold', 'shuhui', 'shut', 'shy', 'si', 'sian', 'sib', 'sick', 'sigh', 'sighs', 'sight', 'sign', 'signal', 'significant', 'signin', 'signing', 'siguviri', 'silence', 'silent', 'silently', 'silly', 'silver', 'sim', 'simple', 'simpler', 'simply', 'simpsons', 'sinco', 'sing', 'singing', 'single', 'singles', 'sink', 'sip', 'sipix', 'sips', 'sir', 'sirji', 'sis', 'sister', 'sisters', 'sit', 'site', 'sitll', 'sitter', 'sitting', 'situation', 'situations', 'siva', 'size', 'skateboarding', 'skilgme', 'skillgame', 'skinny', 'skins', 'skip', 'skirt', 'sky', 'skye', 'skype', 'skyving', 'slaaaaave', 'slacking', 'slap', 'slave', 'sleep', 'sleepin', 'sleeping', 'sleepingwith', 'sleeps', 'sleepwell', 'sleepy', 'slept', 'slice', 'slide', 'sliding', 'slightly', 'slip', 'slippers', 'slippery', 'slo', 'slob', 'slots', 'slovely', 'slow', 'slower', 'slowing', 'slowly', 'slp', 'slurp', 'small', 'smart', 'smartcall', 'smarter', 'smash', 'smashed', 'smear', 'smells', 'smeone', 'smidgin', 'smile', 'smiled', 'smiles', 'smiling', 'smith', 'smoke', 'smoked', 'smokes', 'smokin', 'smoking', 'smoothly', 'sms', 'smsco', 'smsing', 'smsrewards', 'smsservices', 'smth', 'sn', 'snake', 'snap', 'snappy', 'snatch', 'sneham', 'snickering', 'snogs', 'snoring', 'snot', 'snow', 'snowball', 'snowman', 'snuggles', 'social', 'sofa', 'soft', 'soil', 'soiree', 'sol', 'soladha', 'sold', 'solve', 'solved', 'somebody', 'someonone', 'someplace', 'sometext', 'somethin', 'sometme', 'somewhr', 'somone', 'somtimes', 'sonathaya', 'song', 'songs', 'sony', 'sonyericsson', 'soo', 'soon', 'sooner', 'soonlots', 'soooo', 'sore', 'sorrow', 'sorry', 'sort', 'sorta', 'sorted', 'sorting', 'sorts', 'sory', 'soryda', 'sos', 'soul', 'sound', 'sounding', 'sounds', 'soundtrack', 'soup', 'source', 'south', 'southern', 'soz', 'sozi', 'sp', 'space', 'spaces', 'spain', 'spam', 'spanish', 'spare', 'spares', 'spark', 'sparkling', 'speak', 'speaking', 'special', 'speciale', 'specialisation', 'specialise', 'specially', 'specific', 'specs', 'speechless', 'speed', 'speling', 'spell', 'spelled', 'spelling', 'spend', 'spending', 'spent', 'sphosting', 'spider', 'spile', 'spin', 'spiral', 'spirit', 'spiritual', 'spk', 'spl', 'splash', 'splashmobile', 'splendid', 'split', 'splleing', 'spoiled', 'spoilt', 'spoke', 'spoken', 'sponsors', 'spontaneously', 'spook', 'spoons', 'sport', 'sports', 'sportsx', 'spose', 'spot', 'spotty', 'spouse', 'sppok', 'spreadsheet', 'spree', 'springs', 'sprint', 'sptv', 'spun', 'squatting', 'squeeeeeze', 'squeezed', 'squid', 'squishy', 'srsly', 'sry', 'st', 'stability', 'stable', 'stadium', 'staff', 'stagwood', 'stairs', 'stalking', 'stamped', 'stamps', 'stand', 'standard', 'standing', 'stapati', 'star', 'stars', 'starshine', 'start', 'started', 'starting', 'starts', 'starve', 'starving', 'stash', 'stated', 'statement', 'statements', 'station', 'status', 'stay', 'stayed', 'stayin', 'staying', 'stays', 'std', 'stdtxtrate', 'steak', 'steal', 'steam', 'steed', 'steering', 'step', 'stereo', 'stereophonics', 'sterling', 'sterm', 'sth', 'sticky', 'stitch', 'stock', 'stocked', 'stockport', 'stolen', 'stomach', 'stomps', 'stone', 'stoners', 'stones', 'stool', 'stop', 'stopbcm', 'stopcost', 'stopped', 'stops', 'stopsms', 'store', 'stores', 'stories', 'storming', 'story', 'str', 'straight', 'strain', 'strange', 'stranger', 'stream', 'street', 'stress', 'stressed', 'stressfull', 'strike', 'stripes', 'strokes', 'strong', 'strt', 'strtd', 'struggling', 'sts', 'stubborn', 'stuck', 'student', 'studentfinancial', 'students', 'studies', 'studio', 'study', 'studying', 'studyn', 'stuff', 'stuffed', 'stuffing', 'stuffs', 'stupid', 'style', 'styles', 'styling', 'stylish', 'sub', 'subject', 'subletting', 'submitted', 'submitting', 'subpoly', 'subs', 'subscribe', 'subscribed', 'subscriber', 'subscribers', 'subscription', 'subscriptions', 'subscrition', 'subsequent', 'success', 'successful', 'successfully', 'sucker', 'suckers', 'sucks', 'suddenly', 'sudn', 'suffer', 'suffers', 'sufficient', 'sugababes', 'suganya', 'sugar', 'sugardad', 'suggest', 'suggestion', 'suggestions', 'suite', 'suitemates', 'suits', 'sullivan', 'sum', 'suman', 'summer', 'summers', 'summon', 'sumthin', 'sun', 'sunday', 'sunlight', 'sunny', 'sunshine', 'suntec', 'sup', 'super', 'superb', 'superior', 'supervisor', 'suply', 'supose', 'suppliers', 'supplies', 'supply', 'support', 'suppose', 'supposed', 'supreme', 'suprman', 'sura', 'sure', 'surely', 'surf', 'surfing', 'surgical', 'surly', 'surname', 'surprise', 'surprised', 'surrender', 'surrounded', 'survey', 'surya', 'sutra', 'sux', 'suzy', 'svc', 'swalpa', 'swan', 'swann', 'swashbuckling', 'swat', 'swatch', 'sway', 'swear', 'sweet', 'sweetest', 'sweetheart', 'sweetie', 'sweets', 'swell', 'swimming', 'swimsuit', 'swing', 'swiss', 'switch', 'swoop', 'swt', 'swtheart', 'syd', 'syllabus', 'symbol', 'symptoms', 'synced', 'syrup', 'systems', 'ta', 'table', 'tablet', 'tablets', 'tackle', 'tacos', 'tactful', 'tactless', 'tahan', 'tai', 'taj', 'taka', 'takecare', 'taken', 'takes', 'takin', 'taking', 'talent', 'talents', 'talk', 'talkbut', 'talked', 'talking', 'talks', 'tall', 'tallent', 'tampa', 'tank', 'tap', 'tape', 'tariffs', 'tarot', 'tarpon', 'taste', 'tasts', 'tat', 'tata', 'tats', 'tattoos', 'tau', 'taught', 'taunton', 'taxes', 'taxi', 'taxless', 'taxt', 'taylor', 'tayseer', 'tb', 'tbs', 'tc', 'tcr', 'tcs', 'tddnewsletter', 'tea', 'teach', 'teachers', 'teaches', 'teaching', 'team', 'teams', 'tear', 'tease', 'teasing', 'tech', 'technical', 'tee', 'teenager', 'teeth', 'teju', 'tel', 'telediscount', 'telephone', 'telephonic', 'teletext', 'tell', 'telling', 'tellmiss', 'tells', 'telly', 'telphone', 'telugu', 'temales', 'temp', 'temper', 'temple', 'tenants', 'tenerife', 'tensed', 'tension', 'teresa', 'term', 'terminated', 'terms', 'termsapply', 'terrible', 'terrific', 'terror', 'terrorist', 'terry', 'tessy', 'test', 'testing', 'tests', 'texas', 'texd', 'text', 'textbuddy', 'textcomp', 'texted', 'textin', 'texting', 'textoperator', 'textpod', 'texts', 'th', 'thandiyachu', 'thangam', 'thank', 'thanks', 'thanksgiving', 'thanku', 'thanx', 'thasa', 'thatmum', 'thats', 'theacusations', 'theater', 'theatre', 'thedailydraw', 'theirs', 'thekingshead', 'themed', 'themes', 'themob', 'thenampet', 'theoretically', 'theory', 'theplace', 'thepub', 'thesis', 'thesmszone', 'thet', 'thew', 'theyre', 'thgt', 'thia', 'thing', 'things', 'think', 'thinked', 'thinkin', 'thinking', 'thinks', 'thinkthis', 'thirtyeight', 'thirunelvali', 'thk', 'thm', 'thnk', 'thnq', 'thnx', 'tho', 'thot', 'thought', 'thousands', 'thout', 'thread', 'threats', 'thriller', 'throat', 'throw', 'throwin', 'throwing', 'thrown', 'throws', 'ths', 'tht', 'thts', 'thuglyfe', 'thurs', 'thursday', 'thx', 'tick', 'ticket', 'tickets', 'tie', 'tight', 'tightly', 'tigress', 'tihs', 'til', 'till', 'tim', 'time', 'times', 'timi', 'timin', 'timing', 'timings', 'tip', 'tips', 'tired', 'tiring', 'tirunelvai', 'tirunelvali', 'tirupur', 'tis', 'tissco', 'title', 'titles', 'tiwary', 'tix', 'tiz', 'tkts', 'tlk', 'tlp', 'tm', 'tming', 'tmorow', 'tmorrow', 'tmr', 'tms', 'tmw', 'tnc', 'tncs', 'toa', 'tocall', 'toclaim', 'today', 'todays', 'todo', 'tog', 'tohar', 'toilet', 'tok', 'token', 'toking', 'tol', 'told', 'toledo', 'tolerat', 'toll', 'tom', 'tomarrow', 'tomeandsaid', 'tomo', 'tomorro', 'tomorrow', 'tomorw', 'tone', 'tones', 'tonexs', 'tonght', 'tongued', 'tonight', 'tonights', 'tonite', 'tons', 'took', 'tookplace', 'tool', 'tooo', 'tooth', 'topic', 'toppoly', 'tops', 'torch', 'torrents', 'tortilla', 'torture', 'toshiba', 'toss', 'tot', 'total', 'totally', 'touch', 'touched', 'tough', 'toughest', 'tour', 'town', 'toxic', 'toyota', 'tp', 'track', 'trade', 'traffic', 'train', 'trained', 'training', 'trainners', 'trains', 'tram', 'tranquility', 'transaction', 'transcribing', 'transfer', 'transfered', 'transferred', 'transfred', 'transport', 'trash', 'trauma', 'trav', 'travel', 'traveling', 'travelled', 'treacle', 'treadmill', 'treasure', 'treat', 'treatin', 'treats', 'trebles', 'tree', 'trends', 'tried', 'trip', 'triple', 'trips', 'trishul', 'tron', 'trouble', 'troubleshooting', 'trouser', 'true', 'truffles', 'truly', 'trust', 'trusting', 'truth', 'try', 'tryin', 'trying', 'ts', 'tsandcs', 'tscs', 'tsunami', 'tsunamis', 'tt', 'ttyl', 'tue', 'tues', 'tuesday', 'tuition', 'tulip', 'tune', 'tunji', 'turn', 'turning', 'turns', 'tuth', 'tv', 'twice', 'twilight', 'twinks', 'twins', 'twittering', 'tx', 'txt', 'txtauction', 'txtin', 'txting', 'txtno', 'txts', 'txtstar', 'txtstop', 'txttowin', 'txtx', 'tyler', 'type', 'types', 'tyrone', 'uawake', 'ubi', 'ugadi', 'ugh', 'uh', 'uhhhhrmm', 'ujhhhhhhh', 'uk', 'ukp', 'uks', 'ultimate', 'um', 'umma', 'ummma', 'ummmmmaah', 'unable', 'unbelievable', 'unbreakable', 'unclaimed', 'uncle', 'uncles', 'uncomfortable', 'unconditionally', 'unconscious', 'unconsciously', 'unconvinced', 'uncut', 'understand', 'understanding', 'understood', 'undrstnd', 'undrstndng', 'unemployed', 'uneventful', 'unfolds', 'unfortunately', 'unfortuntly', 'unhappy', 'uni', 'unicef', 'unintentional', 'unintentionally', 'unique', 'united', 'units', 'univ', 'university', 'unjalur', 'unkempt', 'unknown', 'unless', 'unlimited', 'unmits', 'unni', 'unrecognized', 'unredeemed', 'unsecured', 'unsold', 'unspoken', 'unsub', 'unsubscribe', 'unsubscribed', 'untamed', 'unusual', 'upcharge', 'update', 'upgrade', 'upgrading', 'upgrdcentre', 'upload', 'uploaded', 'ups', 'upset', 'upstairs', 'upto', 'uptown', 'ur', 'urawinner', 'ure', 'urfeeling', 'urgent', 'urgently', 'urgh', 'urgnt', 'urgran', 'urination', 'url', 'urmom', 'urn', 'urself', 'usa', 'usb', 'usc', 'use', 'used', 'useful', 'useless', 'user', 'uses', 'usf', 'usher', 'using', 'usmle', 'usps', 'usual', 'usually', 'uterus', 'utter', 'uttered', 'uup', 'uwana', 'uworld', 'va', 'vaazhthukkal', 'vague', 'vaguely', 'vale', 'valentine', 'valentines', 'valid', 'valuable', 'value', 'valued', 'valuing', 'varaya', 'vargu', 'various', 'varma', 'vary', 'vasai', 'vat', 'vatian', 'vava', 'vco', 'vday', 've', 'vegas', 'vehicle', 'velachery', 'velusamy', 'venugopal', 'verified', 'verify', 'verifying', 'version', 'vettam', 'vewy', 'vibrant', 'vibrator', 'vic', 'victoria', 'victors', 'vid', 'video', 'videochat', 'videophones', 'videos', 'videosound', 'videosounds', 'view', 'vijay', 'vikky', 'vilikkam', 'vill', 'village', 'vinobanagar', 'violated', 'violence', 'violet', 'vip', 'virgil', 'virgins', 'visionsms', 'visit', 'visiting', 'visitor', 'visitors', 'vital', 'vitamin', 'viva', 'vivek', 'vivekanand', 'vl', 'voda', 'vodafone', 'vodka', 'voice', 'voicemail', 'voila', 'volcanoes', 'vomit', 'vomitin', 'vomiting', 'vote', 'voted', 'voucher', 'vouchers', 'vpod', 'vry', 'vs', 'vth', 'vu', 'wa', 'waaaat', 'wad', 'wah', 'waheed', 'waheeda', 'wahleykkum', 'waht', 'wait', 'waited', 'waitin', 'waiting', 'wake', 'waking', 'wales', 'waliking', 'walk', 'walkabout', 'walked', 'walkin', 'walking', 'walks', 'wallpaper', 'walls', 'walmart', 'walsall', 'wamma', 'wan', 'wana', 'wanna', 'wannatell', 'want', 'wanted', 'wanting', 'wants', 'wap', 'warm', 'warming', 'warned', 'warner', 'warning', 'warranty', 'warwick', 'wasn', 'wasnt', 'waste', 'wasted', 'wasting', 'wat', 'watch', 'watched', 'watches', 'watchin', 'watching', 'water', 'watever', 'wating', 'wats', 'watts', 'wave', 'wavering', 'waves', 'way', 'weak', 'wear', 'wearing', 'weaseling', 'weather', 'web', 'webadres', 'webeburnin', 'webpage', 'website', 'wed', 'weddin', 'wedding', 'weddingfriend', 'wedlunch', 'wednesday', 'weds', 'wee', 'weed', 'week', 'weekdays', 'weekend', 'weekends', 'weekly', 'weeks', 'weigh', 'weighed', 'weight', 'weightloss', 'weird', 'weirdest', 'weirdo', 'weirdy', 'weiyi', 'welcome', 'welcomes', 'wellda', 'welp', 'wen', 'wendy', 'wenever', 'went', 'wenwecan', 'wer', 'weren', 'werethe', 'wesley', 'west', 'western', 'westlife', 'westonzoyland', 'westshore', 'wet', 'wewa', 'whassup', 'whats', 'whatsup', 'wheat', 'whenevr', 'whens', 'whereare', 'wherevr', 'wherre', 'whilltake', 'whispers', 'white', 'whn', 'whore', 'whos', 'wi', 'wicklow', 'wid', 'widelive', 'wif', 'wife', 'wifes', 'wifi', 'wihtuot', 'wikipedia', 'wil', 'wild', 'wildlife', 'willing', 'willpower', 'win', 'window', 'windows', 'winds', 'windy', 'wine', 'wings', 'winner', 'winnersclub', 'winning', 'wins', 'winterstone', 'wisdom', 'wise', 'wish', 'wishes', 'wishin', 'wishing', 'wishlist', 'wiskey', 'wit', 'wither', 'witot', 'witout', 'wiv', 'wizzle', 'wk', 'wkend', 'wkent', 'wkg', 'wkly', 'wknd', 'wks', 'wlcome', 'wld', 'wml', 'wnevr', 'wnt', 'woah', 'woke', 'woman', 'womdarfull', 'women', 'won', 'wondar', 'wonder', 'wonderful', 'wondering', 'wonders', 'wont', 'woodland', 'woohoo', 'woot', 'woould', 'worc', 'word', 'words', 'work', 'workand', 'workin', 'working', 'works', 'world', 'worlds', 'worried', 'worries', 'worry', 'worse', 'worst', 'worth', 'worthless', 'wot', 'wotu', 'wotz', 'woulda', 'wouldn', 'wounds', 'wow', 'wrc', 'wrench', 'wright', 'write', 'writhing', 'wrk', 'wrkin', 'wrking', 'wrks', 'wrld', 'wrnog', 'wrong', 'wrongly', 'wrote', 'ws', 'wt', 'wtc', 'wtf', 'wth', 'wthout', 'wtlp', 'wud', 'wudn', 'wuld', 'wuldnt', 'wun', 'www', 'wylie', 'xafter', 'xam', 'xavier', 'xchat', 'xclusive', 'xin', 'xmas', 'xoxo', 'xt', 'xuhui', 'xx', 'xxsp', 'xxuk', 'xxx', 'xxxmobilemovieclub', 'xxxx', 'xxxxx', 'xxxxxx', 'xxxxxxx', 'xxxxxxxxxxxxxx', 'xy', 'ya', 'yah', 'yahoo', 'yalrigu', 'yalru', 'yam', 'yan', 'yar', 'yarasu', 'yards', 'yavnt', 'yaxx', 'yaxxx', 'yay', 'yck', 'yeah', 'year', 'years', 'yeesh', 'yeh', 'yelling', 'yellow', 'yelow', 'yen', 'yeovil', 'yep', 'yer', 'yes', 'yest', 'yesterday', 'yetty', 'yetunde', 'yhl', 'yi', 'yifeng', 'yijue', 'ym', 'ymca', 'yo', 'yoga', 'yogasana', 'yor', 'youdoing', 'youi', 'young', 'youre', 'yourinclusive', 'yourjob', 'youuuuu', 'yoville', 'yoyyooo', 'yr', 'yrs', 'ything', 'yummmm', 'yummy', 'yun', 'yunny', 'yuo', 'yuou', 'yup', 'yupz', 'zac', 'zaher', 'zealand', 'zebra', 'zed', 'zeros', 'zoom', 'zouk', 'èn']\n"
     ]
    }
   ],
   "source": [
    "#### Optional Step to Feel At Ease\n",
    "\n",
    "# We need to reassure to ourselves that the text has the same feature size during the develop/modelling phase\n",
    "print(new_text_vector.toarray().shape)\n",
    "print(trained_cv.get_feature_names())\n"
   ]
  },
  {
   "cell_type": "code",
   "execution_count": null,
   "metadata": {},
   "outputs": [],
   "source": []
  }
 ],
 "metadata": {
  "kernelspec": {
   "display_name": "Python 3",
   "language": "python",
   "name": "python3"
  },
  "language_info": {
   "codemirror_mode": {
    "name": "ipython",
    "version": 3
   },
   "file_extension": ".py",
   "mimetype": "text/x-python",
   "name": "python",
   "nbconvert_exporter": "python",
   "pygments_lexer": "ipython3",
   "version": "3.8.10"
  }
 },
 "nbformat": 4,
 "nbformat_minor": 2
}

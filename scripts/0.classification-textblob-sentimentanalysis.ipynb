{
 "cells": [
  {
   "cell_type": "code",
   "execution_count": 11,
   "id": "48d6af21",
   "metadata": {},
   "outputs": [
    {
     "name": "stdout",
     "output_type": "stream",
     "text": [
      "Requirement already satisfied: textblob in /Users/tanpohkeam/miniforge3/envs/spacy/lib/python3.8/site-packages (0.15.3)\n",
      "Requirement already satisfied: nltk>=3.1 in /Users/tanpohkeam/miniforge3/envs/spacy/lib/python3.8/site-packages (from textblob) (3.6.2)\n",
      "Requirement already satisfied: regex in /Users/tanpohkeam/.local/lib/python3.8/site-packages (from nltk>=3.1->textblob) (2021.7.1)\n",
      "Requirement already satisfied: tqdm in /Users/tanpohkeam/miniforge3/envs/spacy/lib/python3.8/site-packages (from nltk>=3.1->textblob) (4.61.1)\n",
      "Requirement already satisfied: joblib in /Users/tanpohkeam/miniforge3/envs/spacy/lib/python3.8/site-packages (from nltk>=3.1->textblob) (1.0.1)\n",
      "Requirement already satisfied: click in /Users/tanpohkeam/miniforge3/envs/spacy/lib/python3.8/site-packages (from nltk>=3.1->textblob) (7.1.2)\n"
     ]
    }
   ],
   "source": [
    "!pip install -U textblob"
   ]
  },
  {
   "cell_type": "code",
   "execution_count": 13,
   "id": "fde88ac7",
   "metadata": {},
   "outputs": [],
   "source": [
    "from textblob import TextBlob\n",
    "import nltk"
   ]
  },
  {
   "cell_type": "code",
   "execution_count": 6,
   "id": "31ea5556",
   "metadata": {},
   "outputs": [],
   "source": [
    "sentence = \"I think the Singapore PM was using common sense coupled with presuppositions of  the need for peaceful coexistence.\""
   ]
  },
  {
   "cell_type": "code",
   "execution_count": 7,
   "id": "0b4c8421",
   "metadata": {},
   "outputs": [],
   "source": [
    "blob = TextBlob(sentence)"
   ]
  },
  {
   "cell_type": "markdown",
   "id": "b0623039",
   "metadata": {},
   "source": [
    "Passing the sentence to create TextBlob will cause the object to perform sentiment analysis on the input.\n",
    "\n",
    "Subjectivity: An evaluation if the statement is a fact, or an opinion\n",
    "\n",
    "Polarity: How positive (1.0) or negative (-1.0) is the sentiment of the sentence"
   ]
  },
  {
   "cell_type": "code",
   "execution_count": 9,
   "id": "d6885dee",
   "metadata": {
    "scrolled": true
   },
   "outputs": [
    {
     "data": {
      "text/plain": [
       "-0.024999999999999994"
      ]
     },
     "execution_count": 9,
     "metadata": {},
     "output_type": "execute_result"
    }
   ],
   "source": [
    "blob.sentiment.polarity"
   ]
  },
  {
   "cell_type": "code",
   "execution_count": 11,
   "id": "ad8b0381",
   "metadata": {},
   "outputs": [
    {
     "data": {
      "text/plain": [
       "0.5"
      ]
     },
     "execution_count": 11,
     "metadata": {},
     "output_type": "execute_result"
    }
   ],
   "source": [
    "blob.sentiment.subjectivity"
   ]
  },
  {
   "cell_type": "markdown",
   "id": "bc05c3a9",
   "metadata": {},
   "source": [
    "### Task 1\n",
    "\n",
    "The four sentences below are taken from product reviews.\n",
    "Read through the sentences, and then rank from from the most negative to most positive.\n"
   ]
  },
  {
   "cell_type": "code",
   "execution_count": 44,
   "id": "24209c41",
   "metadata": {},
   "outputs": [],
   "source": [
    "s0 = \"Exactly what I was looking for,  I look great in it too. The sleeves are a bit tight.\"\n",
    "\n",
    "\n",
    "s1 = \"Exactly what I was looking for,  I look great in it too.\"\n",
    "\n",
    "\n",
    "\n",
    "s2 = \"This product arrived looking like it had been painted over with black pint. \\\n",
    "    Once Washed it revealed rust on both sides.\"\n",
    "\n",
    "s3 = \"Nice looking but was missing the suction cup for hanging on the side of the sink. \\\n",
    "Was not very easy to keep clean.\"\n",
    "\n"
   ]
  },
  {
   "cell_type": "markdown",
   "id": "7b10d7bd",
   "metadata": {},
   "source": [
    "### Task 2\n",
    "Run following codes to get the inferred sentiments of the reviews. Are the results similar to your own interpretation?"
   ]
  },
  {
   "cell_type": "code",
   "execution_count": 45,
   "id": "fcee3012",
   "metadata": {},
   "outputs": [
    {
     "name": "stdout",
     "output_type": "stream",
     "text": [
      "Sentence  0 Sentiment is :  0.2904761904761905\n",
      "Sentence  1 Sentiment is :  0.525\n",
      "Sentence  2 Sentiment is :  -0.16666666666666666\n",
      "Sentence  3 Sentiment is :  0.15\n"
     ]
    }
   ],
   "source": [
    "## \n",
    "\n",
    "for idx,s in enumerate([s0,s1,s2, s3]):\n",
    "    blob = TextBlob(s)\n",
    "    print ( \"Sentence \", idx, \"Sentiment is : \", blob.sentiment.polarity )   "
   ]
  },
  {
   "cell_type": "markdown",
   "id": "0415005f",
   "metadata": {},
   "source": [
    "#### Reference:\n",
    "\n",
    "    https://nusit.nus.edu.sg/technus/easy-nlp-with-textblob/\n",
    "        \n",
    "    https://towardsdatascience.com/my-absolute-go-to-for-sentiment-analysis-textblob-3ac3a11d524"
   ]
  },
  {
   "cell_type": "code",
   "execution_count": null,
   "id": "0958f13e",
   "metadata": {},
   "outputs": [],
   "source": []
  }
 ],
 "metadata": {
  "kernelspec": {
   "display_name": "Python 3",
   "language": "python",
   "name": "python3"
  },
  "language_info": {
   "codemirror_mode": {
    "name": "ipython",
    "version": 3
   },
   "file_extension": ".py",
   "mimetype": "text/x-python",
   "name": "python",
   "nbconvert_exporter": "python",
   "pygments_lexer": "ipython3",
   "version": "3.8.10"
  }
 },
 "nbformat": 4,
 "nbformat_minor": 5
}

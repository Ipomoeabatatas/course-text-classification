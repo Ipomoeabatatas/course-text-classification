{
 "cells": [
  {
   "cell_type": "markdown",
   "metadata": {},
   "source": [
    "#### Workflow for Building and Saving a Text Classification Model (using Navie Bayes)\n",
    "\n",
    "Steps for classification\n",
    "1. Prepare the data: Read in labelled data and preprocess the data\n",
    "2. Split the data: Separate inputs and outputs into a training set and a test set\n",
    "3. Numerically encode inputs: Using Count Vectorizer \n",
    "4. Fit a model: Fit a model on the training data and apply the fitted model to the test set\n",
    "5. Evaluate the model: Decide how good the model is by calculating various error metrics\n",
    "6. Save the model\n"
   ]
  },
  {
   "cell_type": "markdown",
   "metadata": {},
   "source": [
    "#### Step 1: Prepare the data: Read in labelled data and preprocess the data"
   ]
  },
  {
   "cell_type": "code",
   "execution_count": 1,
   "metadata": {},
   "outputs": [],
   "source": [
    "import pandas as pd\n",
    "import re\n",
    "import string\n",
    "from sklearn.naive_bayes import MultinomialNB\n",
    "from sklearn.model_selection import train_test_split\n",
    "from sklearn.feature_extraction.text import CountVectorizer\n",
    "from sklearn.metrics import confusion_matrix\n",
    "import matplotlib.pyplot as plt\n",
    "import seaborn as sns\n",
    "import pickle\n",
    "from datetime import datetime"
   ]
  },
  {
   "cell_type": "code",
   "execution_count": 2,
   "metadata": {
    "scrolled": true
   },
   "outputs": [
    {
     "name": "stdout",
     "output_type": "stream",
     "text": [
      "  label                                               text\n",
      "0   ham                      Ok lar... Joking wif u oni...\n",
      "1  spam  Free entry in 2 a wkly comp to win FA Cup fina...\n",
      "2   ham  U dun say so early hor... U c already then say...\n",
      "3   ham  Nah I don't think he goes to usf, he lives aro...\n",
      "4  spam  FreeMsg Hey there darling it's been 3 week's n...\n"
     ]
    }
   ],
   "source": [
    "# make sure the data is labeled\n",
    "\n",
    "\n",
    "data = pd.read_csv('../assets/SMSSpamCollection.txt', encoding='utf-8' , sep='\\t')\n",
    "data.columns = ['label', 'text']\n",
    "print(data.head()) # print function requires Python 3\n"
   ]
  },
  {
   "cell_type": "code",
   "execution_count": 3,
   "metadata": {},
   "outputs": [
    {
     "name": "stdout",
     "output_type": "stream",
     "text": [
      "  label                                               text\n",
      "0   ham                      ok lar    joking wif u oni   \n",
      "1  spam  free entry in   a wkly comp to win fa cup fina...\n",
      "2   ham  u dun say so early hor    u c already then say   \n",
      "3   ham  nah i don t think he goes to usf  he lives aro...\n",
      "4  spam  freemsg hey there darling it s been   week s n...\n"
     ]
    }
   ],
   "source": [
    "# remove words with numbers, punctuation and capital letters\n",
    "\n",
    "alphanumeric = lambda x: re.sub(r\"\"\"\\w*\\d\\w*\"\"\", ' ', x)\n",
    "punc_lower = lambda x: re.sub('[%s]' % re.escape(string.punctuation), ' ', x.lower())\n",
    "data['text'] = data.text.map(alphanumeric).map(punc_lower)\n",
    "print(data.head())\n"
   ]
  },
  {
   "cell_type": "markdown",
   "metadata": {},
   "source": [
    "#### Step 2. Split the data: Separate inputs and outputs into a training set and a test set"
   ]
  },
  {
   "cell_type": "code",
   "execution_count": 4,
   "metadata": {},
   "outputs": [],
   "source": [
    "# split the data into inputs and outputs\n",
    "X = data.text # inputs into model\n",
    "Y = data.label # output of model\n"
   ]
  },
  {
   "cell_type": "code",
   "execution_count": 5,
   "metadata": {},
   "outputs": [
    {
     "data": {
      "text/plain": [
       "0                        ok lar    joking wif u oni   \n",
       "1    free entry in   a wkly comp to win fa cup fina...\n",
       "2    u dun say so early hor    u c already then say   \n",
       "3    nah i don t think he goes to usf  he lives aro...\n",
       "4    freemsg hey there darling it s been   week s n...\n",
       "Name: text, dtype: object"
      ]
     },
     "execution_count": 5,
     "metadata": {},
     "output_type": "execute_result"
    }
   ],
   "source": [
    "X.head()"
   ]
  },
  {
   "cell_type": "code",
   "execution_count": 6,
   "metadata": {
    "scrolled": true
   },
   "outputs": [
    {
     "data": {
      "text/plain": [
       "0     ham\n",
       "1    spam\n",
       "2     ham\n",
       "3     ham\n",
       "4    spam\n",
       "Name: label, dtype: object"
      ]
     },
     "execution_count": 6,
     "metadata": {},
     "output_type": "execute_result"
    }
   ],
   "source": [
    "Y.head()"
   ]
  },
  {
   "cell_type": "code",
   "execution_count": 7,
   "metadata": {},
   "outputs": [],
   "source": [
    "# split the data into a training and test set\n",
    "\n",
    "\n",
    "X_train, X_test, y_train, y_test = train_test_split(X, Y, test_size=0.3, random_state=42)\n",
    "# test size = 30% of observations, which means training size = 70% of observations\n",
    "# random state = 42, so we all get the same random train / test split"
   ]
  },
  {
   "cell_type": "code",
   "execution_count": 8,
   "metadata": {},
   "outputs": [
    {
     "data": {
      "text/plain": [
       "' To see shape\\nX_train.head()\\nX_train.shape\\ny_train.head()\\ny_train.shape\\n'"
      ]
     },
     "execution_count": 8,
     "metadata": {},
     "output_type": "execute_result"
    }
   ],
   "source": [
    "''' To see shape\n",
    "X_train.head()\n",
    "X_train.shape\n",
    "y_train.head()\n",
    "y_train.shape\n",
    "'''"
   ]
  },
  {
   "cell_type": "code",
   "execution_count": 9,
   "metadata": {},
   "outputs": [
    {
     "data": {
      "text/plain": [
       "(5571,)"
      ]
     },
     "execution_count": 9,
     "metadata": {},
     "output_type": "execute_result"
    }
   ],
   "source": [
    "X.shape"
   ]
  },
  {
   "cell_type": "code",
   "execution_count": 10,
   "metadata": {},
   "outputs": [
    {
     "name": "stdout",
     "output_type": "stream",
     "text": [
      "(3899, 6125)\n",
      "(1672, 6125)\n"
     ]
    }
   ],
   "source": [
    "\n",
    "\n",
    "cv = CountVectorizer(stop_words='english', ngram_range=(1,1))\n",
    "\n",
    "X_train_cv = cv.fit_transform(X_train) # fit_transform learns the vocab and one-hot encodes\n",
    "X_test_cv  = cv.transform(X_test) # transform uses the same vocab and one-hot encodes\n",
    "\n",
    "# print the dimensions of the training set (text messages, terms)\n",
    "print(X_train_cv.toarray().shape)\n",
    "print(X_test_cv.toarray().shape)\n",
    "\n",
    "# Take note of the number of terms (6103). This will affect the operationlization"
   ]
  },
  {
   "cell_type": "code",
   "execution_count": 11,
   "metadata": {},
   "outputs": [],
   "source": [
    "#print(X_test_cv)\n"
   ]
  },
  {
   "cell_type": "markdown",
   "metadata": {},
   "source": [
    "#### 4. Fit a model: Fit a model on the training data and apply the fitted model to the test set\n"
   ]
  },
  {
   "cell_type": "code",
   "execution_count": 12,
   "metadata": {},
   "outputs": [
    {
     "data": {
      "text/plain": [
       "array(['ham', 'spam', 'ham', ..., 'ham', 'ham', 'spam'], dtype='<U4')"
      ]
     },
     "execution_count": 12,
     "metadata": {},
     "output_type": "execute_result"
    }
   ],
   "source": [
    "# Use a Naive Bayes model\n",
    "\n",
    "nb = MultinomialNB()\n",
    "\n",
    "# Train the model\n",
    "nb.fit(X_train_cv, y_train)\n",
    "\n",
    "# Take the model that was trained on the X_train_cv data and apply it to the X_test_cv data\n",
    "y_pred_cv_nb = nb.predict(X_test_cv)\n",
    "y_pred_cv_nb # The output is all of the predictions\n"
   ]
  },
  {
   "cell_type": "markdown",
   "metadata": {},
   "source": [
    "#### 5. Evaluate the model: Decide how good the model is by calculating various error metrics"
   ]
  },
  {
   "cell_type": "code",
   "execution_count": 13,
   "metadata": {},
   "outputs": [
    {
     "name": "stdout",
     "output_type": "stream",
     "text": [
      "Accuracy: 0.983\n",
      "Precision: 0.944\n",
      "Recall: 0.927\n",
      "F1 Score: 0.935\n"
     ]
    },
    {
     "data": {
      "image/png": "[encoded data removed]",
      "text/plain": [
       "<Figure size 432x288 with 2 Axes>"
      ]
     },
     "metadata": {
      "needs_background": "light"
     },
     "output_type": "display_data"
    }
   ],
   "source": [
    "\n",
    "%matplotlib inline\n",
    "\n",
    "cm = confusion_matrix(y_test, y_pred_cv_nb)\n",
    "sns.heatmap(cm, xticklabels=['predicted_ham', 'predicted_spam'], yticklabels=['actual_ham', 'actual_spam'], annot=True, fmt='d', annot_kws={'fontsize':20}, cmap=\"YlGnBu\");\n",
    "\n",
    "true_neg, false_pos = cm[0]\n",
    "false_neg, true_pos = cm[1]\n",
    "\n",
    "accuracy = round((true_pos + true_neg) / (true_pos + true_neg + false_pos + false_neg),3)\n",
    "precision = round((true_pos) / (true_pos + false_pos),3)\n",
    "recall = round((true_pos) / (true_pos + false_neg),3)\n",
    "f1 = round(2 * (precision * recall) / (precision + recall),3)\n",
    "\n",
    "print('Accuracy: {}'.format(accuracy))\n",
    "print('Precision: {}'.format(precision))\n",
    "print('Recall: {}'.format(recall))\n",
    "print('F1 Score: {}'.format(f1))\n"
   ]
  },
  {
   "cell_type": "markdown",
   "metadata": {},
   "source": [
    "#### 6. Save the model"
   ]
  },
  {
   "cell_type": "code",
   "execution_count": 14,
   "metadata": {},
   "outputs": [],
   "source": [
    "#We need to save the model for reloading in the deployed application.\n",
    "#We also need to save the counter vectorizer in order to retain the vocabulary information\n",
    "\n",
    "time = datetime.now().strftime(\"%Y-%m-%d\")\n",
    "\n",
    "classifier_path = '../outputs/nb_classifier-{}.pkl'.format(time)\n",
    "countvectorizer_path = '../outputs/nb_countvectoriser-{}.pkl'.format(time)\n",
    "\n",
    "\n",
    "with open(classifier_path, 'wb') as f1:\n",
    "    pickle.dump(nb, f1)\n",
    "    \n",
    "with open(countvectorizer_path, 'wb') as f2:\n",
    "    pickle.dump(cv, f2)\n",
    "    "
   ]
  },
  {
   "cell_type": "code",
   "execution_count": 16,
   "metadata": {},
   "outputs": [
    {
     "name": "stdout",
     "output_type": "stream",
     "text": [
      "total 1400\r\n",
      "-rw-r--r--  1 tanpohkeam  staff   74021 Jul  2 14:39 nb_countvectoriser-2021-07-02.pkl\r\n",
      "-rw-r--r--  1 tanpohkeam  staff  196629 Jul  2 14:39 nb_classifier-2021-07-02.pkl\r\n",
      "-rw-r--r--  1 tanpohkeam  staff   74021 Jul  2 10:57 countvectoriser-2021-07-02.pkl\r\n",
      "-rw-r--r--  1 tanpohkeam  staff   49714 Jul  2 10:40 classifier-2021-07-02.pkl\r\n",
      "-rw-r--r--  1 tanpohkeam  staff   74021 Jul  1 21:52 countvectoriser-2021-07-01.pkl\r\n",
      "-rw-r--r--  1 tanpohkeam  staff   49714 Jul  1 21:52 classifier-2021-07-01.pkl\r\n"
     ]
    }
   ],
   "source": [
    "! ls -lt ../outputs"
   ]
  },
  {
   "cell_type": "code",
   "execution_count": null,
   "metadata": {},
   "outputs": [],
   "source": []
  },
  {
   "cell_type": "code",
   "execution_count": null,
   "metadata": {},
   "outputs": [],
   "source": []
  }
 ],
 "metadata": {
  "kernelspec": {
   "display_name": "Python 3",
   "language": "python",
   "name": "python3"
  },
  "language_info": {
   "codemirror_mode": {
    "name": "ipython",
    "version": 3
   },
   "file_extension": ".py",
   "mimetype": "text/x-python",
   "name": "python",
   "nbconvert_exporter": "python",
   "pygments_lexer": "ipython3",
   "version": "3.8.10"
  }
 },
 "nbformat": 4,
 "nbformat_minor": 2
}
